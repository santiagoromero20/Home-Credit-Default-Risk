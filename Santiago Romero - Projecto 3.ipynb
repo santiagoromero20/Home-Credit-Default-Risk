{
  "cells": [
    {
      "cell_type": "markdown",
      "id": "9d3c07ee-c3bf-4530-812a-36405502b38d",
      "metadata": {
        "id": "9d3c07ee-c3bf-4530-812a-36405502b38d"
      },
      "source": [
        "# Anyone AI"
      ]
    },
    {
      "cell_type": "markdown",
      "id": "12c65989-2d1a-4e6e-9332-092ff6830d29",
      "metadata": {
        "id": "12c65989-2d1a-4e6e-9332-092ff6830d29"
      },
      "source": [
        "# Project III - Home Credit Default Risk"
      ]
    },
    {
      "cell_type": "markdown",
      "id": "b5a8ce13-f23a-41bf-a8c7-d432ebcbe0c1",
      "metadata": {
        "id": "b5a8ce13-f23a-41bf-a8c7-d432ebcbe0c1"
      },
      "source": [
        "You've been learning a lot about Machine Learning Algorithms, now we you're gonna be asked to put it all together. "
      ]
    },
    {
      "cell_type": "markdown",
      "id": "58ca3658-e8a1-41ba-a823-1a88ca9ef34b",
      "metadata": {
        "id": "58ca3658-e8a1-41ba-a823-1a88ca9ef34b"
      },
      "source": [
        "You will create a complete pipeline to preprocess the data, train your model and then predict values for the [Home Credit Default Risk](https://www.kaggle.com/competitions/home-credit-default-risk/) Kaggle competition."
      ]
    },
    {
      "cell_type": "markdown",
      "id": "e396c950-04b0-453e-b930-a22a96cee2d1",
      "metadata": {
        "id": "e396c950-04b0-453e-b930-a22a96cee2d1"
      },
      "source": [
        "## Introduction"
      ]
    },
    {
      "cell_type": "markdown",
      "id": "6a305c07-e042-4c59-8aea-03475afc09dd",
      "metadata": {
        "id": "6a305c07-e042-4c59-8aea-03475afc09dd"
      },
      "source": [
        "Kaggle is a web platform and community for data scientist and machine learning engineers where competetitions and datasets are regularly published.\n",
        "\n",
        "This particular competition is a binary Classification task: we want to predict whether the person applying for a home credit will be able to repay its debt or not. The competition finished 4 years ago, so you will find a lot of blog posts and code written for it, we encourage you to read everything you can about it.\n",
        "\n",
        "The dataset is composed of multiple files with different information about loands taken. In this project we're going to exclusively work with the main files: application_train.csv and application_test.csv.\n",
        "\n",
        "The competition uses [Area Under the ROC Curve](https://developers.google.com/machine-learning/crash-course/classification/roc-and-auc?hl=es_419) as the evaluation metric, so our models will have to return the probabilities that a loan is not paid for each row."
      ]
    },
    {
      "cell_type": "markdown",
      "id": "3ab085b5-379c-4e02-9f96-08edf5dbf887",
      "metadata": {
        "id": "3ab085b5-379c-4e02-9f96-08edf5dbf887"
      },
      "source": [
        "### Getting the data"
      ]
    },
    {
      "cell_type": "markdown",
      "id": "73354ae2-3adf-43c7-b3f3-849db316bfd3",
      "metadata": {
        "id": "73354ae2-3adf-43c7-b3f3-849db316bfd3"
      },
      "source": [
        "1- Login to Kaggle (if you don't have an account you'll have to register to get it) and download the [complete dataset](https://www.kaggle.com/competitions/home-credit-default-risk/data). Read the information about the data. What does a row in the main file represent? What does the target variable means?"
      ]
    },
    {
      "cell_type": "markdown",
      "id": "c4f50673-a197-4ea4-99df-3d4435bd643d",
      "metadata": {
        "id": "c4f50673-a197-4ea4-99df-3d4435bd643d"
      },
      "source": [
        "One row represents one loan in our data sample.\n",
        "The target variable says wether the loan was repaid (0) or not (1)"
      ]
    },
    {
      "cell_type": "markdown",
      "id": "25a0a724-ceb1-40cb-b123-b8c907a9c06f",
      "metadata": {
        "id": "25a0a724-ceb1-40cb-b123-b8c907a9c06f"
      },
      "source": [
        "2- Load the training and test datasets, we're only going to work withe \"application_train.csv\" and \"application_test.csv\" for now"
      ]
    },
    {
      "cell_type": "code",
      "source": [
        "import pandas as pd\n",
        "import numpy as np\n",
        "import matplotlib.pyplot as plt\n",
        "import seaborn as sns\n",
        "import IPython.display\n",
        "import warnings\n",
        "import time\n",
        "\n",
        "%matplotlib inline"
      ],
      "metadata": {
        "id": "iQe0F6mTHJaw"
      },
      "id": "iQe0F6mTHJaw",
      "execution_count": null,
      "outputs": []
    },
    {
      "cell_type": "code",
      "source": [
        "from google.colab import drive\n",
        "drive.mount('/content/drive')"
      ],
      "metadata": {
        "id": "geiB7la2GDsb",
        "outputId": "3d1468ce-03da-4683-b084-fffeb1e92b1b",
        "colab": {
          "base_uri": "https://localhost:8080/"
        }
      },
      "id": "geiB7la2GDsb",
      "execution_count": null,
      "outputs": [
        {
          "output_type": "stream",
          "name": "stdout",
          "text": [
            "Mounted at /content/drive\n"
          ]
        }
      ]
    },
    {
      "cell_type": "code",
      "source": [
        "application_train_df = pd.read_csv(\"/content/drive/MyDrive/Colab Notebooks/Sprint 3/Archivos/application_train.csv\")\n",
        "application_test_df  = pd.read_csv(\"/content/drive/MyDrive/Colab Notebooks/Sprint 3/Archivos/application_test.csv\") "
      ],
      "metadata": {
        "id": "xQUxp2xRGEe0"
      },
      "id": "xQUxp2xRGEe0",
      "execution_count": null,
      "outputs": []
    },
    {
      "cell_type": "markdown",
      "id": "7c10a608-5c38-44f4-8158-18225619e7ae",
      "metadata": {
        "tags": [],
        "id": "7c10a608-5c38-44f4-8158-18225619e7ae"
      },
      "source": [
        "### Exploratory Data Analysis"
      ]
    },
    {
      "cell_type": "markdown",
      "id": "6bc490ab-a7b3-4590-a93c-70df44787682",
      "metadata": {
        "id": "6bc490ab-a7b3-4590-a93c-70df44787682"
      },
      "source": [
        "A lot of the analysis of the data can be found on public available Kaggle kernels or blog posts, but you need to make sure you understand the datasets properties before starting working on it, so we'll do exploratory data analysis for the main files"
      ]
    },
    {
      "cell_type": "markdown",
      "id": "2ea774d3-e12c-4c2b-846d-8c5c03e70928",
      "metadata": {
        "id": "2ea774d3-e12c-4c2b-846d-8c5c03e70928"
      },
      "source": [
        "**Dataset Basics**"
      ]
    },
    {
      "cell_type": "markdown",
      "id": "9f0b4817-5768-49d2-b5f2-907827541f16",
      "metadata": {
        "id": "9f0b4817-5768-49d2-b5f2-907827541f16"
      },
      "source": [
        "1- Show the shape of the training and test datasets."
      ]
    },
    {
      "cell_type": "code",
      "execution_count": null,
      "id": "6a98fdd5-cbf2-4d20-9559-89c7cf5943cd",
      "metadata": {
        "id": "6a98fdd5-cbf2-4d20-9559-89c7cf5943cd",
        "outputId": "a1b1a13c-4b88-4faf-c3c5-9a8af05aea2e",
        "colab": {
          "base_uri": "https://localhost:8080/"
        }
      },
      "outputs": [
        {
          "output_type": "stream",
          "name": "stdout",
          "text": [
            "The shape of the testing dataset is: (48744, 121)\n",
            "The shape of the training dataset is: (307511, 122)\n"
          ]
        }
      ],
      "source": [
        "print(\"The shape of the testing dataset is:\",application_test_df.shape)\n",
        "print(\"The shape of the training dataset is:\",application_train_df.shape)"
      ]
    },
    {
      "cell_type": "markdown",
      "id": "74e7a95b-8288-4ead-8c1e-f2cf68167d8e",
      "metadata": {
        "id": "74e7a95b-8288-4ead-8c1e-f2cf68167d8e"
      },
      "source": [
        "2- List all columns in the train dataset"
      ]
    },
    {
      "cell_type": "code",
      "execution_count": null,
      "id": "d7af2f2e-93db-41e6-bb26-df1ad0be7786",
      "metadata": {
        "id": "d7af2f2e-93db-41e6-bb26-df1ad0be7786",
        "outputId": "132e98df-597c-4ff1-a6a4-117cda4b1143",
        "colab": {
          "base_uri": "https://localhost:8080/",
          "height": 1000
        }
      },
      "outputs": [
        {
          "output_type": "execute_result",
          "data": {
            "text/plain": [
              "<IPython.core.display.HTML object>"
            ],
            "text/html": [
              "<table border=\"1\" class=\"dataframe\">\n",
              "  <thead>\n",
              "    <tr style=\"text-align: right;\">\n",
              "      <th></th>\n",
              "      <th>0</th>\n",
              "    </tr>\n",
              "  </thead>\n",
              "  <tbody>\n",
              "    <tr>\n",
              "      <th>0</th>\n",
              "      <td>SK_ID_CURR</td>\n",
              "    </tr>\n",
              "    <tr>\n",
              "      <th>1</th>\n",
              "      <td>TARGET</td>\n",
              "    </tr>\n",
              "    <tr>\n",
              "      <th>2</th>\n",
              "      <td>NAME_CONTRACT_TYPE</td>\n",
              "    </tr>\n",
              "    <tr>\n",
              "      <th>3</th>\n",
              "      <td>CODE_GENDER</td>\n",
              "    </tr>\n",
              "    <tr>\n",
              "      <th>4</th>\n",
              "      <td>FLAG_OWN_CAR</td>\n",
              "    </tr>\n",
              "    <tr>\n",
              "      <th>5</th>\n",
              "      <td>FLAG_OWN_REALTY</td>\n",
              "    </tr>\n",
              "    <tr>\n",
              "      <th>6</th>\n",
              "      <td>CNT_CHILDREN</td>\n",
              "    </tr>\n",
              "    <tr>\n",
              "      <th>7</th>\n",
              "      <td>AMT_INCOME_TOTAL</td>\n",
              "    </tr>\n",
              "    <tr>\n",
              "      <th>8</th>\n",
              "      <td>AMT_CREDIT</td>\n",
              "    </tr>\n",
              "    <tr>\n",
              "      <th>9</th>\n",
              "      <td>AMT_ANNUITY</td>\n",
              "    </tr>\n",
              "    <tr>\n",
              "      <th>10</th>\n",
              "      <td>AMT_GOODS_PRICE</td>\n",
              "    </tr>\n",
              "    <tr>\n",
              "      <th>11</th>\n",
              "      <td>NAME_TYPE_SUITE</td>\n",
              "    </tr>\n",
              "    <tr>\n",
              "      <th>12</th>\n",
              "      <td>NAME_INCOME_TYPE</td>\n",
              "    </tr>\n",
              "    <tr>\n",
              "      <th>13</th>\n",
              "      <td>NAME_EDUCATION_TYPE</td>\n",
              "    </tr>\n",
              "    <tr>\n",
              "      <th>14</th>\n",
              "      <td>NAME_FAMILY_STATUS</td>\n",
              "    </tr>\n",
              "    <tr>\n",
              "      <th>15</th>\n",
              "      <td>NAME_HOUSING_TYPE</td>\n",
              "    </tr>\n",
              "    <tr>\n",
              "      <th>16</th>\n",
              "      <td>REGION_POPULATION_RELATIVE</td>\n",
              "    </tr>\n",
              "    <tr>\n",
              "      <th>17</th>\n",
              "      <td>DAYS_BIRTH</td>\n",
              "    </tr>\n",
              "    <tr>\n",
              "      <th>18</th>\n",
              "      <td>DAYS_EMPLOYED</td>\n",
              "    </tr>\n",
              "    <tr>\n",
              "      <th>19</th>\n",
              "      <td>DAYS_REGISTRATION</td>\n",
              "    </tr>\n",
              "    <tr>\n",
              "      <th>20</th>\n",
              "      <td>DAYS_ID_PUBLISH</td>\n",
              "    </tr>\n",
              "    <tr>\n",
              "      <th>21</th>\n",
              "      <td>OWN_CAR_AGE</td>\n",
              "    </tr>\n",
              "    <tr>\n",
              "      <th>22</th>\n",
              "      <td>FLAG_MOBIL</td>\n",
              "    </tr>\n",
              "    <tr>\n",
              "      <th>23</th>\n",
              "      <td>FLAG_EMP_PHONE</td>\n",
              "    </tr>\n",
              "    <tr>\n",
              "      <th>24</th>\n",
              "      <td>FLAG_WORK_PHONE</td>\n",
              "    </tr>\n",
              "    <tr>\n",
              "      <th>25</th>\n",
              "      <td>FLAG_CONT_MOBILE</td>\n",
              "    </tr>\n",
              "    <tr>\n",
              "      <th>26</th>\n",
              "      <td>FLAG_PHONE</td>\n",
              "    </tr>\n",
              "    <tr>\n",
              "      <th>27</th>\n",
              "      <td>FLAG_EMAIL</td>\n",
              "    </tr>\n",
              "    <tr>\n",
              "      <th>28</th>\n",
              "      <td>OCCUPATION_TYPE</td>\n",
              "    </tr>\n",
              "    <tr>\n",
              "      <th>29</th>\n",
              "      <td>CNT_FAM_MEMBERS</td>\n",
              "    </tr>\n",
              "    <tr>\n",
              "      <th>30</th>\n",
              "      <td>REGION_RATING_CLIENT</td>\n",
              "    </tr>\n",
              "    <tr>\n",
              "      <th>31</th>\n",
              "      <td>REGION_RATING_CLIENT_W_CITY</td>\n",
              "    </tr>\n",
              "    <tr>\n",
              "      <th>32</th>\n",
              "      <td>WEEKDAY_APPR_PROCESS_START</td>\n",
              "    </tr>\n",
              "    <tr>\n",
              "      <th>33</th>\n",
              "      <td>HOUR_APPR_PROCESS_START</td>\n",
              "    </tr>\n",
              "    <tr>\n",
              "      <th>34</th>\n",
              "      <td>REG_REGION_NOT_LIVE_REGION</td>\n",
              "    </tr>\n",
              "    <tr>\n",
              "      <th>35</th>\n",
              "      <td>REG_REGION_NOT_WORK_REGION</td>\n",
              "    </tr>\n",
              "    <tr>\n",
              "      <th>36</th>\n",
              "      <td>LIVE_REGION_NOT_WORK_REGION</td>\n",
              "    </tr>\n",
              "    <tr>\n",
              "      <th>37</th>\n",
              "      <td>REG_CITY_NOT_LIVE_CITY</td>\n",
              "    </tr>\n",
              "    <tr>\n",
              "      <th>38</th>\n",
              "      <td>REG_CITY_NOT_WORK_CITY</td>\n",
              "    </tr>\n",
              "    <tr>\n",
              "      <th>39</th>\n",
              "      <td>LIVE_CITY_NOT_WORK_CITY</td>\n",
              "    </tr>\n",
              "    <tr>\n",
              "      <th>40</th>\n",
              "      <td>ORGANIZATION_TYPE</td>\n",
              "    </tr>\n",
              "    <tr>\n",
              "      <th>41</th>\n",
              "      <td>EXT_SOURCE_1</td>\n",
              "    </tr>\n",
              "    <tr>\n",
              "      <th>42</th>\n",
              "      <td>EXT_SOURCE_2</td>\n",
              "    </tr>\n",
              "    <tr>\n",
              "      <th>43</th>\n",
              "      <td>EXT_SOURCE_3</td>\n",
              "    </tr>\n",
              "    <tr>\n",
              "      <th>44</th>\n",
              "      <td>APARTMENTS_AVG</td>\n",
              "    </tr>\n",
              "    <tr>\n",
              "      <th>45</th>\n",
              "      <td>BASEMENTAREA_AVG</td>\n",
              "    </tr>\n",
              "    <tr>\n",
              "      <th>46</th>\n",
              "      <td>YEARS_BEGINEXPLUATATION_AVG</td>\n",
              "    </tr>\n",
              "    <tr>\n",
              "      <th>47</th>\n",
              "      <td>YEARS_BUILD_AVG</td>\n",
              "    </tr>\n",
              "    <tr>\n",
              "      <th>48</th>\n",
              "      <td>COMMONAREA_AVG</td>\n",
              "    </tr>\n",
              "    <tr>\n",
              "      <th>49</th>\n",
              "      <td>ELEVATORS_AVG</td>\n",
              "    </tr>\n",
              "    <tr>\n",
              "      <th>50</th>\n",
              "      <td>ENTRANCES_AVG</td>\n",
              "    </tr>\n",
              "    <tr>\n",
              "      <th>51</th>\n",
              "      <td>FLOORSMAX_AVG</td>\n",
              "    </tr>\n",
              "    <tr>\n",
              "      <th>52</th>\n",
              "      <td>FLOORSMIN_AVG</td>\n",
              "    </tr>\n",
              "    <tr>\n",
              "      <th>53</th>\n",
              "      <td>LANDAREA_AVG</td>\n",
              "    </tr>\n",
              "    <tr>\n",
              "      <th>54</th>\n",
              "      <td>LIVINGAPARTMENTS_AVG</td>\n",
              "    </tr>\n",
              "    <tr>\n",
              "      <th>55</th>\n",
              "      <td>LIVINGAREA_AVG</td>\n",
              "    </tr>\n",
              "    <tr>\n",
              "      <th>56</th>\n",
              "      <td>NONLIVINGAPARTMENTS_AVG</td>\n",
              "    </tr>\n",
              "    <tr>\n",
              "      <th>57</th>\n",
              "      <td>NONLIVINGAREA_AVG</td>\n",
              "    </tr>\n",
              "    <tr>\n",
              "      <th>58</th>\n",
              "      <td>APARTMENTS_MODE</td>\n",
              "    </tr>\n",
              "    <tr>\n",
              "      <th>59</th>\n",
              "      <td>BASEMENTAREA_MODE</td>\n",
              "    </tr>\n",
              "    <tr>\n",
              "      <th>60</th>\n",
              "      <td>YEARS_BEGINEXPLUATATION_MODE</td>\n",
              "    </tr>\n",
              "    <tr>\n",
              "      <th>61</th>\n",
              "      <td>YEARS_BUILD_MODE</td>\n",
              "    </tr>\n",
              "    <tr>\n",
              "      <th>62</th>\n",
              "      <td>COMMONAREA_MODE</td>\n",
              "    </tr>\n",
              "    <tr>\n",
              "      <th>63</th>\n",
              "      <td>ELEVATORS_MODE</td>\n",
              "    </tr>\n",
              "    <tr>\n",
              "      <th>64</th>\n",
              "      <td>ENTRANCES_MODE</td>\n",
              "    </tr>\n",
              "    <tr>\n",
              "      <th>65</th>\n",
              "      <td>FLOORSMAX_MODE</td>\n",
              "    </tr>\n",
              "    <tr>\n",
              "      <th>66</th>\n",
              "      <td>FLOORSMIN_MODE</td>\n",
              "    </tr>\n",
              "    <tr>\n",
              "      <th>67</th>\n",
              "      <td>LANDAREA_MODE</td>\n",
              "    </tr>\n",
              "    <tr>\n",
              "      <th>68</th>\n",
              "      <td>LIVINGAPARTMENTS_MODE</td>\n",
              "    </tr>\n",
              "    <tr>\n",
              "      <th>69</th>\n",
              "      <td>LIVINGAREA_MODE</td>\n",
              "    </tr>\n",
              "    <tr>\n",
              "      <th>70</th>\n",
              "      <td>NONLIVINGAPARTMENTS_MODE</td>\n",
              "    </tr>\n",
              "    <tr>\n",
              "      <th>71</th>\n",
              "      <td>NONLIVINGAREA_MODE</td>\n",
              "    </tr>\n",
              "    <tr>\n",
              "      <th>72</th>\n",
              "      <td>APARTMENTS_MEDI</td>\n",
              "    </tr>\n",
              "    <tr>\n",
              "      <th>73</th>\n",
              "      <td>BASEMENTAREA_MEDI</td>\n",
              "    </tr>\n",
              "    <tr>\n",
              "      <th>74</th>\n",
              "      <td>YEARS_BEGINEXPLUATATION_MEDI</td>\n",
              "    </tr>\n",
              "    <tr>\n",
              "      <th>75</th>\n",
              "      <td>YEARS_BUILD_MEDI</td>\n",
              "    </tr>\n",
              "    <tr>\n",
              "      <th>76</th>\n",
              "      <td>COMMONAREA_MEDI</td>\n",
              "    </tr>\n",
              "    <tr>\n",
              "      <th>77</th>\n",
              "      <td>ELEVATORS_MEDI</td>\n",
              "    </tr>\n",
              "    <tr>\n",
              "      <th>78</th>\n",
              "      <td>ENTRANCES_MEDI</td>\n",
              "    </tr>\n",
              "    <tr>\n",
              "      <th>79</th>\n",
              "      <td>FLOORSMAX_MEDI</td>\n",
              "    </tr>\n",
              "    <tr>\n",
              "      <th>80</th>\n",
              "      <td>FLOORSMIN_MEDI</td>\n",
              "    </tr>\n",
              "    <tr>\n",
              "      <th>81</th>\n",
              "      <td>LANDAREA_MEDI</td>\n",
              "    </tr>\n",
              "    <tr>\n",
              "      <th>82</th>\n",
              "      <td>LIVINGAPARTMENTS_MEDI</td>\n",
              "    </tr>\n",
              "    <tr>\n",
              "      <th>83</th>\n",
              "      <td>LIVINGAREA_MEDI</td>\n",
              "    </tr>\n",
              "    <tr>\n",
              "      <th>84</th>\n",
              "      <td>NONLIVINGAPARTMENTS_MEDI</td>\n",
              "    </tr>\n",
              "    <tr>\n",
              "      <th>85</th>\n",
              "      <td>NONLIVINGAREA_MEDI</td>\n",
              "    </tr>\n",
              "    <tr>\n",
              "      <th>86</th>\n",
              "      <td>FONDKAPREMONT_MODE</td>\n",
              "    </tr>\n",
              "    <tr>\n",
              "      <th>87</th>\n",
              "      <td>HOUSETYPE_MODE</td>\n",
              "    </tr>\n",
              "    <tr>\n",
              "      <th>88</th>\n",
              "      <td>TOTALAREA_MODE</td>\n",
              "    </tr>\n",
              "    <tr>\n",
              "      <th>89</th>\n",
              "      <td>WALLSMATERIAL_MODE</td>\n",
              "    </tr>\n",
              "    <tr>\n",
              "      <th>90</th>\n",
              "      <td>EMERGENCYSTATE_MODE</td>\n",
              "    </tr>\n",
              "    <tr>\n",
              "      <th>91</th>\n",
              "      <td>OBS_30_CNT_SOCIAL_CIRCLE</td>\n",
              "    </tr>\n",
              "    <tr>\n",
              "      <th>92</th>\n",
              "      <td>DEF_30_CNT_SOCIAL_CIRCLE</td>\n",
              "    </tr>\n",
              "    <tr>\n",
              "      <th>93</th>\n",
              "      <td>OBS_60_CNT_SOCIAL_CIRCLE</td>\n",
              "    </tr>\n",
              "    <tr>\n",
              "      <th>94</th>\n",
              "      <td>DEF_60_CNT_SOCIAL_CIRCLE</td>\n",
              "    </tr>\n",
              "    <tr>\n",
              "      <th>95</th>\n",
              "      <td>DAYS_LAST_PHONE_CHANGE</td>\n",
              "    </tr>\n",
              "    <tr>\n",
              "      <th>96</th>\n",
              "      <td>FLAG_DOCUMENT_2</td>\n",
              "    </tr>\n",
              "    <tr>\n",
              "      <th>97</th>\n",
              "      <td>FLAG_DOCUMENT_3</td>\n",
              "    </tr>\n",
              "    <tr>\n",
              "      <th>98</th>\n",
              "      <td>FLAG_DOCUMENT_4</td>\n",
              "    </tr>\n",
              "    <tr>\n",
              "      <th>99</th>\n",
              "      <td>FLAG_DOCUMENT_5</td>\n",
              "    </tr>\n",
              "    <tr>\n",
              "      <th>100</th>\n",
              "      <td>FLAG_DOCUMENT_6</td>\n",
              "    </tr>\n",
              "    <tr>\n",
              "      <th>101</th>\n",
              "      <td>FLAG_DOCUMENT_7</td>\n",
              "    </tr>\n",
              "    <tr>\n",
              "      <th>102</th>\n",
              "      <td>FLAG_DOCUMENT_8</td>\n",
              "    </tr>\n",
              "    <tr>\n",
              "      <th>103</th>\n",
              "      <td>FLAG_DOCUMENT_9</td>\n",
              "    </tr>\n",
              "    <tr>\n",
              "      <th>104</th>\n",
              "      <td>FLAG_DOCUMENT_10</td>\n",
              "    </tr>\n",
              "    <tr>\n",
              "      <th>105</th>\n",
              "      <td>FLAG_DOCUMENT_11</td>\n",
              "    </tr>\n",
              "    <tr>\n",
              "      <th>106</th>\n",
              "      <td>FLAG_DOCUMENT_12</td>\n",
              "    </tr>\n",
              "    <tr>\n",
              "      <th>107</th>\n",
              "      <td>FLAG_DOCUMENT_13</td>\n",
              "    </tr>\n",
              "    <tr>\n",
              "      <th>108</th>\n",
              "      <td>FLAG_DOCUMENT_14</td>\n",
              "    </tr>\n",
              "    <tr>\n",
              "      <th>109</th>\n",
              "      <td>FLAG_DOCUMENT_15</td>\n",
              "    </tr>\n",
              "    <tr>\n",
              "      <th>110</th>\n",
              "      <td>FLAG_DOCUMENT_16</td>\n",
              "    </tr>\n",
              "    <tr>\n",
              "      <th>111</th>\n",
              "      <td>FLAG_DOCUMENT_17</td>\n",
              "    </tr>\n",
              "    <tr>\n",
              "      <th>112</th>\n",
              "      <td>FLAG_DOCUMENT_18</td>\n",
              "    </tr>\n",
              "    <tr>\n",
              "      <th>113</th>\n",
              "      <td>FLAG_DOCUMENT_19</td>\n",
              "    </tr>\n",
              "    <tr>\n",
              "      <th>114</th>\n",
              "      <td>FLAG_DOCUMENT_20</td>\n",
              "    </tr>\n",
              "    <tr>\n",
              "      <th>115</th>\n",
              "      <td>FLAG_DOCUMENT_21</td>\n",
              "    </tr>\n",
              "    <tr>\n",
              "      <th>116</th>\n",
              "      <td>AMT_REQ_CREDIT_BUREAU_HOUR</td>\n",
              "    </tr>\n",
              "    <tr>\n",
              "      <th>117</th>\n",
              "      <td>AMT_REQ_CREDIT_BUREAU_DAY</td>\n",
              "    </tr>\n",
              "    <tr>\n",
              "      <th>118</th>\n",
              "      <td>AMT_REQ_CREDIT_BUREAU_WEEK</td>\n",
              "    </tr>\n",
              "    <tr>\n",
              "      <th>119</th>\n",
              "      <td>AMT_REQ_CREDIT_BUREAU_MON</td>\n",
              "    </tr>\n",
              "    <tr>\n",
              "      <th>120</th>\n",
              "      <td>AMT_REQ_CREDIT_BUREAU_QRT</td>\n",
              "    </tr>\n",
              "    <tr>\n",
              "      <th>121</th>\n",
              "      <td>AMT_REQ_CREDIT_BUREAU_YEAR</td>\n",
              "    </tr>\n",
              "  </tbody>\n",
              "</table>"
            ]
          },
          "metadata": {},
          "execution_count": 6
        }
      ],
      "source": [
        "IPython.display.HTML(pd.DataFrame(application_train_df.columns).to_html())"
      ]
    },
    {
      "cell_type": "markdown",
      "id": "2dc4835f-90c3-4049-9ec2-44d102201104",
      "metadata": {
        "id": "2dc4835f-90c3-4049-9ec2-44d102201104"
      },
      "source": [
        "3- Show the first 5 records of the training dataset, transpose the dataframe to see each record as a column and features as rows, make sure all features are visualized. Take your time to review what kind of information you can gather from this data."
      ]
    },
    {
      "cell_type": "code",
      "execution_count": null,
      "id": "ac9c85b3-52e0-4b80-9753-afb81f92bd0d",
      "metadata": {
        "id": "ac9c85b3-52e0-4b80-9753-afb81f92bd0d",
        "colab": {
          "base_uri": "https://localhost:8080/",
          "height": 317
        },
        "outputId": "449de73a-1ceb-4349-a14c-1a9fcb24d1eb"
      },
      "outputs": [
        {
          "output_type": "execute_result",
          "data": {
            "text/plain": [
              "                        0           1                2           3       \\\n",
              "SK_ID_CURR              100002      100003           100004      100006   \n",
              "TARGET                       1           0                0           0   \n",
              "NAME_CONTRACT_TYPE  Cash loans  Cash loans  Revolving loans  Cash loans   \n",
              "CODE_GENDER                  M           F                M           F   \n",
              "FLAG_OWN_CAR                 N           N                Y           N   \n",
              "\n",
              "                        4           5           6           7       \\\n",
              "SK_ID_CURR              100007      100008      100009      100010   \n",
              "TARGET                       0           0           0           0   \n",
              "NAME_CONTRACT_TYPE  Cash loans  Cash loans  Cash loans  Cash loans   \n",
              "CODE_GENDER                  M           M           F           M   \n",
              "FLAG_OWN_CAR                 N           N           Y           Y   \n",
              "\n",
              "                        8                9       ...      307501      307502  \\\n",
              "SK_ID_CURR              100011           100012  ...      456245      456246   \n",
              "TARGET                       0                0  ...           0           0   \n",
              "NAME_CONTRACT_TYPE  Cash loans  Revolving loans  ...  Cash loans  Cash loans   \n",
              "CODE_GENDER                  F                M  ...           F           F   \n",
              "FLAG_OWN_CAR                 N                N  ...           N           N   \n",
              "\n",
              "                        307503      307504      307505      307506  \\\n",
              "SK_ID_CURR              456247      456248      456249      456251   \n",
              "TARGET                       0           0           0           0   \n",
              "NAME_CONTRACT_TYPE  Cash loans  Cash loans  Cash loans  Cash loans   \n",
              "CODE_GENDER                  F           F           F           M   \n",
              "FLAG_OWN_CAR                 N           N           N           N   \n",
              "\n",
              "                        307507      307508      307509      307510  \n",
              "SK_ID_CURR              456252      456253      456254      456255  \n",
              "TARGET                       0           0           1           0  \n",
              "NAME_CONTRACT_TYPE  Cash loans  Cash loans  Cash loans  Cash loans  \n",
              "CODE_GENDER                  F           F           F           F  \n",
              "FLAG_OWN_CAR                 N           N           N           N  \n",
              "\n",
              "[5 rows x 307511 columns]"
            ],
            "text/html": [
              "\n",
              "  <div id=\"df-ae1513e1-ccab-47a0-9a2e-c9bc2faad34d\">\n",
              "    <div class=\"colab-df-container\">\n",
              "      <div>\n",
              "<style scoped>\n",
              "    .dataframe tbody tr th:only-of-type {\n",
              "        vertical-align: middle;\n",
              "    }\n",
              "\n",
              "    .dataframe tbody tr th {\n",
              "        vertical-align: top;\n",
              "    }\n",
              "\n",
              "    .dataframe thead th {\n",
              "        text-align: right;\n",
              "    }\n",
              "</style>\n",
              "<table border=\"1\" class=\"dataframe\">\n",
              "  <thead>\n",
              "    <tr style=\"text-align: right;\">\n",
              "      <th></th>\n",
              "      <th>0</th>\n",
              "      <th>1</th>\n",
              "      <th>2</th>\n",
              "      <th>3</th>\n",
              "      <th>4</th>\n",
              "      <th>5</th>\n",
              "      <th>6</th>\n",
              "      <th>7</th>\n",
              "      <th>8</th>\n",
              "      <th>9</th>\n",
              "      <th>...</th>\n",
              "      <th>307501</th>\n",
              "      <th>307502</th>\n",
              "      <th>307503</th>\n",
              "      <th>307504</th>\n",
              "      <th>307505</th>\n",
              "      <th>307506</th>\n",
              "      <th>307507</th>\n",
              "      <th>307508</th>\n",
              "      <th>307509</th>\n",
              "      <th>307510</th>\n",
              "    </tr>\n",
              "  </thead>\n",
              "  <tbody>\n",
              "    <tr>\n",
              "      <th>SK_ID_CURR</th>\n",
              "      <td>100002</td>\n",
              "      <td>100003</td>\n",
              "      <td>100004</td>\n",
              "      <td>100006</td>\n",
              "      <td>100007</td>\n",
              "      <td>100008</td>\n",
              "      <td>100009</td>\n",
              "      <td>100010</td>\n",
              "      <td>100011</td>\n",
              "      <td>100012</td>\n",
              "      <td>...</td>\n",
              "      <td>456245</td>\n",
              "      <td>456246</td>\n",
              "      <td>456247</td>\n",
              "      <td>456248</td>\n",
              "      <td>456249</td>\n",
              "      <td>456251</td>\n",
              "      <td>456252</td>\n",
              "      <td>456253</td>\n",
              "      <td>456254</td>\n",
              "      <td>456255</td>\n",
              "    </tr>\n",
              "    <tr>\n",
              "      <th>TARGET</th>\n",
              "      <td>1</td>\n",
              "      <td>0</td>\n",
              "      <td>0</td>\n",
              "      <td>0</td>\n",
              "      <td>0</td>\n",
              "      <td>0</td>\n",
              "      <td>0</td>\n",
              "      <td>0</td>\n",
              "      <td>0</td>\n",
              "      <td>0</td>\n",
              "      <td>...</td>\n",
              "      <td>0</td>\n",
              "      <td>0</td>\n",
              "      <td>0</td>\n",
              "      <td>0</td>\n",
              "      <td>0</td>\n",
              "      <td>0</td>\n",
              "      <td>0</td>\n",
              "      <td>0</td>\n",
              "      <td>1</td>\n",
              "      <td>0</td>\n",
              "    </tr>\n",
              "    <tr>\n",
              "      <th>NAME_CONTRACT_TYPE</th>\n",
              "      <td>Cash loans</td>\n",
              "      <td>Cash loans</td>\n",
              "      <td>Revolving loans</td>\n",
              "      <td>Cash loans</td>\n",
              "      <td>Cash loans</td>\n",
              "      <td>Cash loans</td>\n",
              "      <td>Cash loans</td>\n",
              "      <td>Cash loans</td>\n",
              "      <td>Cash loans</td>\n",
              "      <td>Revolving loans</td>\n",
              "      <td>...</td>\n",
              "      <td>Cash loans</td>\n",
              "      <td>Cash loans</td>\n",
              "      <td>Cash loans</td>\n",
              "      <td>Cash loans</td>\n",
              "      <td>Cash loans</td>\n",
              "      <td>Cash loans</td>\n",
              "      <td>Cash loans</td>\n",
              "      <td>Cash loans</td>\n",
              "      <td>Cash loans</td>\n",
              "      <td>Cash loans</td>\n",
              "    </tr>\n",
              "    <tr>\n",
              "      <th>CODE_GENDER</th>\n",
              "      <td>M</td>\n",
              "      <td>F</td>\n",
              "      <td>M</td>\n",
              "      <td>F</td>\n",
              "      <td>M</td>\n",
              "      <td>M</td>\n",
              "      <td>F</td>\n",
              "      <td>M</td>\n",
              "      <td>F</td>\n",
              "      <td>M</td>\n",
              "      <td>...</td>\n",
              "      <td>F</td>\n",
              "      <td>F</td>\n",
              "      <td>F</td>\n",
              "      <td>F</td>\n",
              "      <td>F</td>\n",
              "      <td>M</td>\n",
              "      <td>F</td>\n",
              "      <td>F</td>\n",
              "      <td>F</td>\n",
              "      <td>F</td>\n",
              "    </tr>\n",
              "    <tr>\n",
              "      <th>FLAG_OWN_CAR</th>\n",
              "      <td>N</td>\n",
              "      <td>N</td>\n",
              "      <td>Y</td>\n",
              "      <td>N</td>\n",
              "      <td>N</td>\n",
              "      <td>N</td>\n",
              "      <td>Y</td>\n",
              "      <td>Y</td>\n",
              "      <td>N</td>\n",
              "      <td>N</td>\n",
              "      <td>...</td>\n",
              "      <td>N</td>\n",
              "      <td>N</td>\n",
              "      <td>N</td>\n",
              "      <td>N</td>\n",
              "      <td>N</td>\n",
              "      <td>N</td>\n",
              "      <td>N</td>\n",
              "      <td>N</td>\n",
              "      <td>N</td>\n",
              "      <td>N</td>\n",
              "    </tr>\n",
              "  </tbody>\n",
              "</table>\n",
              "<p>5 rows × 307511 columns</p>\n",
              "</div>\n",
              "      <button class=\"colab-df-convert\" onclick=\"convertToInteractive('df-ae1513e1-ccab-47a0-9a2e-c9bc2faad34d')\"\n",
              "              title=\"Convert this dataframe to an interactive table.\"\n",
              "              style=\"display:none;\">\n",
              "        \n",
              "  <svg xmlns=\"http://www.w3.org/2000/svg\" height=\"24px\"viewBox=\"0 0 24 24\"\n",
              "       width=\"24px\">\n",
              "    <path d=\"M0 0h24v24H0V0z\" fill=\"none\"/>\n",
              "    <path d=\"M18.56 5.44l.94 2.06.94-2.06 2.06-.94-2.06-.94-.94-2.06-.94 2.06-2.06.94zm-11 1L8.5 8.5l.94-2.06 2.06-.94-2.06-.94L8.5 2.5l-.94 2.06-2.06.94zm10 10l.94 2.06.94-2.06 2.06-.94-2.06-.94-.94-2.06-.94 2.06-2.06.94z\"/><path d=\"M17.41 7.96l-1.37-1.37c-.4-.4-.92-.59-1.43-.59-.52 0-1.04.2-1.43.59L10.3 9.45l-7.72 7.72c-.78.78-.78 2.05 0 2.83L4 21.41c.39.39.9.59 1.41.59.51 0 1.02-.2 1.41-.59l7.78-7.78 2.81-2.81c.8-.78.8-2.07 0-2.86zM5.41 20L4 18.59l7.72-7.72 1.47 1.35L5.41 20z\"/>\n",
              "  </svg>\n",
              "      </button>\n",
              "      \n",
              "  <style>\n",
              "    .colab-df-container {\n",
              "      display:flex;\n",
              "      flex-wrap:wrap;\n",
              "      gap: 12px;\n",
              "    }\n",
              "\n",
              "    .colab-df-convert {\n",
              "      background-color: #E8F0FE;\n",
              "      border: none;\n",
              "      border-radius: 50%;\n",
              "      cursor: pointer;\n",
              "      display: none;\n",
              "      fill: #1967D2;\n",
              "      height: 32px;\n",
              "      padding: 0 0 0 0;\n",
              "      width: 32px;\n",
              "    }\n",
              "\n",
              "    .colab-df-convert:hover {\n",
              "      background-color: #E2EBFA;\n",
              "      box-shadow: 0px 1px 2px rgba(60, 64, 67, 0.3), 0px 1px 3px 1px rgba(60, 64, 67, 0.15);\n",
              "      fill: #174EA6;\n",
              "    }\n",
              "\n",
              "    [theme=dark] .colab-df-convert {\n",
              "      background-color: #3B4455;\n",
              "      fill: #D2E3FC;\n",
              "    }\n",
              "\n",
              "    [theme=dark] .colab-df-convert:hover {\n",
              "      background-color: #434B5C;\n",
              "      box-shadow: 0px 1px 3px 1px rgba(0, 0, 0, 0.15);\n",
              "      filter: drop-shadow(0px 1px 2px rgba(0, 0, 0, 0.3));\n",
              "      fill: #FFFFFF;\n",
              "    }\n",
              "  </style>\n",
              "\n",
              "      <script>\n",
              "        const buttonEl =\n",
              "          document.querySelector('#df-ae1513e1-ccab-47a0-9a2e-c9bc2faad34d button.colab-df-convert');\n",
              "        buttonEl.style.display =\n",
              "          google.colab.kernel.accessAllowed ? 'block' : 'none';\n",
              "\n",
              "        async function convertToInteractive(key) {\n",
              "          const element = document.querySelector('#df-ae1513e1-ccab-47a0-9a2e-c9bc2faad34d');\n",
              "          const dataTable =\n",
              "            await google.colab.kernel.invokeFunction('convertToInteractive',\n",
              "                                                     [key], {});\n",
              "          if (!dataTable) return;\n",
              "\n",
              "          const docLinkHtml = 'Like what you see? Visit the ' +\n",
              "            '<a target=\"_blank\" href=https://colab.research.google.com/notebooks/data_table.ipynb>data table notebook</a>'\n",
              "            + ' to learn more about interactive tables.';\n",
              "          element.innerHTML = '';\n",
              "          dataTable['output_type'] = 'display_data';\n",
              "          await google.colab.output.renderOutput(dataTable, element);\n",
              "          const docLink = document.createElement('div');\n",
              "          docLink.innerHTML = docLinkHtml;\n",
              "          element.appendChild(docLink);\n",
              "        }\n",
              "      </script>\n",
              "    </div>\n",
              "  </div>\n",
              "  "
            ]
          },
          "metadata": {},
          "execution_count": 7
        }
      ],
      "source": [
        "application_train_df_transposed = application_train_df.T\n",
        "application_train_df_transposed.iloc[:5]"
      ]
    },
    {
      "cell_type": "markdown",
      "id": "59da8f46-e503-4b67-8e73-ac61c394824c",
      "metadata": {
        "id": "59da8f46-e503-4b67-8e73-ac61c394824c"
      },
      "source": [
        "4- Show the distribution of the target variable values: print the total value count and the percentage of each value, plot this relationship."
      ]
    },
    {
      "cell_type": "code",
      "execution_count": null,
      "id": "8855d370-c825-415b-9dd0-9dbdd576fada",
      "metadata": {
        "id": "8855d370-c825-415b-9dd0-9dbdd576fada",
        "colab": {
          "base_uri": "https://localhost:8080/",
          "height": 279
        },
        "outputId": "2432f3ea-5d2c-409e-cf8a-6937fbb71962"
      },
      "outputs": [
        {
          "output_type": "display_data",
          "data": {
            "text/plain": [
              "<Figure size 432x288 with 1 Axes>"
            ],
            "image/png": "[encoded data removed]"
          },
          "metadata": {
            "needs_background": "light"
          }
        }
      ],
      "source": [
        "#Total value count\n",
        "sns.countplot(data=application_train_df, x='TARGET', palette='Pastel1')\n",
        "plt.show()"
      ]
    },
    {
      "cell_type": "code",
      "source": [
        "freq = application_train_df['TARGET'].value_counts() \n",
        "zeros = freq[0]\n",
        "ones  = freq[1]\n",
        "total = len(application_train_df)\n",
        "a = zeros/total\n",
        "b = ones/total\n",
        "print(\"The total value of 0 is of\",zeros)\n",
        "print(\"The total value of 1 is of\",ones)\n",
        "print(\"The percentage of the value 0 is of\",round(a,4)*100,\"%\")\n",
        "print(\"The percentage of the value 1 is of\",round(b,4)*100,\"%\")"
      ],
      "metadata": {
        "id": "QgeNgvN3_Fs2",
        "colab": {
          "base_uri": "https://localhost:8080/"
        },
        "outputId": "4fc64656-3843-4dc5-e470-ca9c633b9f42"
      },
      "id": "QgeNgvN3_Fs2",
      "execution_count": null,
      "outputs": [
        {
          "output_type": "stream",
          "name": "stdout",
          "text": [
            "The total value of 0 is of 282686\n",
            "The total value of 1 is of 24825\n",
            "The percentage of the value 0 is of 91.93 %\n",
            "The percentage of the value 1 is of 8.07 %\n"
          ]
        }
      ]
    },
    {
      "cell_type": "markdown",
      "id": "cc7b5a63-da31-4a61-9e91-9708dc7633a7",
      "metadata": {
        "id": "cc7b5a63-da31-4a61-9e91-9708dc7633a7"
      },
      "source": [
        "5- Show the number of columns of each data type"
      ]
    },
    {
      "cell_type": "code",
      "execution_count": null,
      "id": "b74878dd-cc48-4e69-bc35-e90457d54b3a",
      "metadata": {
        "id": "b74878dd-cc48-4e69-bc35-e90457d54b3a",
        "colab": {
          "base_uri": "https://localhost:8080/"
        },
        "outputId": "534bbf5c-1331-4e9d-ab57-5ddd54f01817"
      },
      "outputs": [
        {
          "output_type": "stream",
          "name": "stdout",
          "text": [
            "<class 'pandas.core.frame.DataFrame'>\n",
            "RangeIndex: 307511 entries, 0 to 307510\n",
            "Columns: 122 entries, SK_ID_CURR to AMT_REQ_CREDIT_BUREAU_YEAR\n",
            "dtypes: float64(65), int64(41), object(16)\n",
            "memory usage: 286.2+ MB\n"
          ]
        }
      ],
      "source": [
        "application_train_df.info()"
      ]
    },
    {
      "cell_type": "markdown",
      "id": "c0a8799e-d32a-4239-a85d-6ff29ab4682f",
      "metadata": {
        "id": "c0a8799e-d32a-4239-a85d-6ff29ab4682f"
      },
      "source": [
        "6- For categorical variables, show the number of distinct values in each column (number of labels)"
      ]
    },
    {
      "cell_type": "code",
      "source": [
        "all_features = application_train_df.columns\n",
        "\n",
        "#Categorical features\n",
        "categorical_features =[\"NAME_CONTRACT_TYPE\", \"CODE_GENDER\", \"FLAG_OWN_CAR\", \"FLAG_OWN_REALTY\", \"NAME_TYPE_SUITE\", \"NAME_INCOME_TYPE\", \"NAME_EDUCATION_TYPE\", \"NAME_FAMILY_STATUS\", \"NAME_HOUSING_TYPE\", \"OCCUPATION_TYPE\", \"WEEKDAY_APPR_PROCESS_START\", \"ORGANIZATION_TYPE\", \"FONDKAPREMONT_MODE\", \"HOUSETYPE_MODE\", \"WALLSMATERIAL_MODE\", \"EMERGENCYSTATE_MODE\", \"FLAG_MOBIL\", \"FLAG_EMP_PHONE\", \"FLAG_WORK_PHONE\", \"FLAG_CONT_MOBILE\", \"FLAG_PHONE\", \"FLAG_EMAIL\", \"REGION_RATING_CLIENT\", \"REGION_RATING_CLIENT_W_CITY\", \"REG_REGION_NOT_LIVE_REGION\", \"REG_REGION_NOT_WORK_REGION\", \"LIVE_REGION_NOT_WORK_REGION\", \"REG_CITY_NOT_LIVE_CITY\", \"REG_CITY_NOT_WORK_CITY\", \"LIVE_CITY_NOT_WORK_CITY\", \"FLAG_DOCUMENT_2\", \"FLAG_DOCUMENT_3\", \"FLAG_DOCUMENT_4\", \"FLAG_DOCUMENT_5\", \"FLAG_DOCUMENT_6\", \"FLAG_DOCUMENT_7\", \"FLAG_DOCUMENT_8\", \"FLAG_DOCUMENT_9\", \"FLAG_DOCUMENT_10\", \"FLAG_DOCUMENT_11\", \"FLAG_DOCUMENT_12\", \"FLAG_DOCUMENT_13\", \"FLAG_DOCUMENT_14\", \"FLAG_DOCUMENT_15\", \"FLAG_DOCUMENT_16\", \"FLAG_DOCUMENT_17\", \"FLAG_DOCUMENT_18\", \"FLAG_DOCUMENT_19\", \"FLAG_DOCUMENT_20\", \"FLAG_DOCUMENT_21\"]\t\n",
        "\n",
        "#Numerical features\n",
        "difference_1 = set(all_features).difference(set(categorical_features))\n",
        "difference_2 = set(categorical_features).difference(set(all_features))\n",
        "numerical_features = list(difference_1.union(difference_2))\n",
        "\n",
        "print(\"There are\",len(all_features),\"features, where\",len(numerical_features),\"are numrical and\",len(categorical_features),\"categorical.\")"
      ],
      "metadata": {
        "id": "R4LodeGz6Mc4",
        "colab": {
          "base_uri": "https://localhost:8080/"
        },
        "outputId": "674631fe-f482-4a55-e8a8-3f9a7f60a247"
      },
      "id": "R4LodeGz6Mc4",
      "execution_count": null,
      "outputs": [
        {
          "output_type": "stream",
          "name": "stdout",
          "text": [
            "There are 122 features, where 72 are numrical and 50 categorical.\n"
          ]
        }
      ]
    },
    {
      "cell_type": "code",
      "source": [
        "#Show number of unique values per categorical column\n",
        "for i in range(len(categorical_features)):\n",
        "  values = application_train_df[str(categorical_features[i])].unique()\n",
        "  for j in range(len(values)):\n",
        "    if values[j] == \"nan\":\n",
        "      values.pop(int(j))\n",
        "\n",
        "  print(\"The uniques categorical values for the columns\",categorical_features[i],\"are\",len(values),\"\\n\")"
      ],
      "metadata": {
        "id": "nSmnIQ7ddb7M",
        "colab": {
          "base_uri": "https://localhost:8080/"
        },
        "outputId": "577fb140-f3f1-4d72-d7ad-a155806504bf"
      },
      "id": "nSmnIQ7ddb7M",
      "execution_count": null,
      "outputs": [
        {
          "output_type": "stream",
          "name": "stdout",
          "text": [
            "The uniques categorical values for the columns NAME_CONTRACT_TYPE are 2 \n",
            "\n",
            "The uniques categorical values for the columns CODE_GENDER are 3 \n",
            "\n",
            "The uniques categorical values for the columns FLAG_OWN_CAR are 2 \n",
            "\n",
            "The uniques categorical values for the columns FLAG_OWN_REALTY are 2 \n",
            "\n",
            "The uniques categorical values for the columns NAME_TYPE_SUITE are 8 \n",
            "\n",
            "The uniques categorical values for the columns NAME_INCOME_TYPE are 8 \n",
            "\n",
            "The uniques categorical values for the columns NAME_EDUCATION_TYPE are 5 \n",
            "\n",
            "The uniques categorical values for the columns NAME_FAMILY_STATUS are 6 \n",
            "\n",
            "The uniques categorical values for the columns NAME_HOUSING_TYPE are 6 \n",
            "\n",
            "The uniques categorical values for the columns OCCUPATION_TYPE are 19 \n",
            "\n",
            "The uniques categorical values for the columns WEEKDAY_APPR_PROCESS_START are 7 \n",
            "\n",
            "The uniques categorical values for the columns ORGANIZATION_TYPE are 58 \n",
            "\n",
            "The uniques categorical values for the columns FONDKAPREMONT_MODE are 5 \n",
            "\n",
            "The uniques categorical values for the columns HOUSETYPE_MODE are 4 \n",
            "\n",
            "The uniques categorical values for the columns WALLSMATERIAL_MODE are 8 \n",
            "\n",
            "The uniques categorical values for the columns EMERGENCYSTATE_MODE are 3 \n",
            "\n",
            "The uniques categorical values for the columns FLAG_MOBIL are 2 \n",
            "\n",
            "The uniques categorical values for the columns FLAG_EMP_PHONE are 2 \n",
            "\n",
            "The uniques categorical values for the columns FLAG_WORK_PHONE are 2 \n",
            "\n",
            "The uniques categorical values for the columns FLAG_CONT_MOBILE are 2 \n",
            "\n",
            "The uniques categorical values for the columns FLAG_PHONE are 2 \n",
            "\n",
            "The uniques categorical values for the columns FLAG_EMAIL are 2 \n",
            "\n",
            "The uniques categorical values for the columns REGION_RATING_CLIENT are 3 \n",
            "\n",
            "The uniques categorical values for the columns REGION_RATING_CLIENT_W_CITY are 3 \n",
            "\n",
            "The uniques categorical values for the columns REG_REGION_NOT_LIVE_REGION are 2 \n",
            "\n",
            "The uniques categorical values for the columns REG_REGION_NOT_WORK_REGION are 2 \n",
            "\n",
            "The uniques categorical values for the columns LIVE_REGION_NOT_WORK_REGION are 2 \n",
            "\n",
            "The uniques categorical values for the columns REG_CITY_NOT_LIVE_CITY are 2 \n",
            "\n",
            "The uniques categorical values for the columns REG_CITY_NOT_WORK_CITY are 2 \n",
            "\n",
            "The uniques categorical values for the columns LIVE_CITY_NOT_WORK_CITY are 2 \n",
            "\n",
            "The uniques categorical values for the columns FLAG_DOCUMENT_2 are 2 \n",
            "\n",
            "The uniques categorical values for the columns FLAG_DOCUMENT_3 are 2 \n",
            "\n",
            "The uniques categorical values for the columns FLAG_DOCUMENT_4 are 2 \n",
            "\n",
            "The uniques categorical values for the columns FLAG_DOCUMENT_5 are 2 \n",
            "\n",
            "The uniques categorical values for the columns FLAG_DOCUMENT_6 are 2 \n",
            "\n",
            "The uniques categorical values for the columns FLAG_DOCUMENT_7 are 2 \n",
            "\n",
            "The uniques categorical values for the columns FLAG_DOCUMENT_8 are 2 \n",
            "\n",
            "The uniques categorical values for the columns FLAG_DOCUMENT_9 are 2 \n",
            "\n",
            "The uniques categorical values for the columns FLAG_DOCUMENT_10 are 2 \n",
            "\n",
            "The uniques categorical values for the columns FLAG_DOCUMENT_11 are 2 \n",
            "\n",
            "The uniques categorical values for the columns FLAG_DOCUMENT_12 are 2 \n",
            "\n",
            "The uniques categorical values for the columns FLAG_DOCUMENT_13 are 2 \n",
            "\n",
            "The uniques categorical values for the columns FLAG_DOCUMENT_14 are 2 \n",
            "\n",
            "The uniques categorical values for the columns FLAG_DOCUMENT_15 are 2 \n",
            "\n",
            "The uniques categorical values for the columns FLAG_DOCUMENT_16 are 2 \n",
            "\n",
            "The uniques categorical values for the columns FLAG_DOCUMENT_17 are 2 \n",
            "\n",
            "The uniques categorical values for the columns FLAG_DOCUMENT_18 are 2 \n",
            "\n",
            "The uniques categorical values for the columns FLAG_DOCUMENT_19 are 2 \n",
            "\n",
            "The uniques categorical values for the columns FLAG_DOCUMENT_20 are 2 \n",
            "\n",
            "The uniques categorical values for the columns FLAG_DOCUMENT_21 are 2 \n",
            "\n"
          ]
        }
      ]
    },
    {
      "cell_type": "markdown",
      "id": "967d1938-e27d-4fbd-9bdc-f26364f5fdfd",
      "metadata": {
        "id": "967d1938-e27d-4fbd-9bdc-f26364f5fdfd"
      },
      "source": [
        "7- Analyzing missing data: show the percentage of missing data for each column ordered by percentage descending (show only the 20 columns with higher missing pct)"
      ]
    },
    {
      "cell_type": "code",
      "source": [
        "vacios = application_train_df.isna().sum()\n",
        "vacios_sort = vacios.sort_values(ascending= False) \n",
        "vacios_sort_head = vacios_sort.head(20)\n",
        "vacios_sort_head_per = (vacios_sort_head/len(application_train_df))\n",
        "vacios_sort_head_per"
      ],
      "metadata": {
        "id": "PepuppXvgQ6r",
        "colab": {
          "base_uri": "https://localhost:8080/"
        },
        "outputId": "3ae174e5-3f5b-4c03-e2d2-76dd060c5ca5"
      },
      "id": "PepuppXvgQ6r",
      "execution_count": null,
      "outputs": [
        {
          "output_type": "execute_result",
          "data": {
            "text/plain": [
              "COMMONAREA_MEDI             0.698723\n",
              "COMMONAREA_AVG              0.698723\n",
              "COMMONAREA_MODE             0.698723\n",
              "NONLIVINGAPARTMENTS_MODE    0.694330\n",
              "NONLIVINGAPARTMENTS_AVG     0.694330\n",
              "NONLIVINGAPARTMENTS_MEDI    0.694330\n",
              "FONDKAPREMONT_MODE          0.683862\n",
              "LIVINGAPARTMENTS_MODE       0.683550\n",
              "LIVINGAPARTMENTS_AVG        0.683550\n",
              "LIVINGAPARTMENTS_MEDI       0.683550\n",
              "FLOORSMIN_AVG               0.678486\n",
              "FLOORSMIN_MODE              0.678486\n",
              "FLOORSMIN_MEDI              0.678486\n",
              "YEARS_BUILD_MEDI            0.664978\n",
              "YEARS_BUILD_MODE            0.664978\n",
              "YEARS_BUILD_AVG             0.664978\n",
              "OWN_CAR_AGE                 0.659908\n",
              "LANDAREA_MEDI               0.593767\n",
              "LANDAREA_MODE               0.593767\n",
              "LANDAREA_AVG                0.593767\n",
              "dtype: float64"
            ]
          },
          "metadata": {},
          "execution_count": 13
        }
      ]
    },
    {
      "cell_type": "code",
      "source": [
        "#Print to see the whole Missing values columns list\n",
        "IPython.display.HTML(pd.DataFrame(application_train_df.isna().sum()).to_html())"
      ],
      "metadata": {
        "id": "yFiidrdohUwJ",
        "colab": {
          "base_uri": "https://localhost:8080/",
          "height": 1000
        },
        "outputId": "b8344444-27b5-407e-e498-d260135c41ea"
      },
      "id": "yFiidrdohUwJ",
      "execution_count": null,
      "outputs": [
        {
          "output_type": "execute_result",
          "data": {
            "text/plain": [
              "<IPython.core.display.HTML object>"
            ],
            "text/html": [
              "<table border=\"1\" class=\"dataframe\">\n",
              "  <thead>\n",
              "    <tr style=\"text-align: right;\">\n",
              "      <th></th>\n",
              "      <th>0</th>\n",
              "    </tr>\n",
              "  </thead>\n",
              "  <tbody>\n",
              "    <tr>\n",
              "      <th>SK_ID_CURR</th>\n",
              "      <td>0</td>\n",
              "    </tr>\n",
              "    <tr>\n",
              "      <th>TARGET</th>\n",
              "      <td>0</td>\n",
              "    </tr>\n",
              "    <tr>\n",
              "      <th>NAME_CONTRACT_TYPE</th>\n",
              "      <td>0</td>\n",
              "    </tr>\n",
              "    <tr>\n",
              "      <th>CODE_GENDER</th>\n",
              "      <td>0</td>\n",
              "    </tr>\n",
              "    <tr>\n",
              "      <th>FLAG_OWN_CAR</th>\n",
              "      <td>0</td>\n",
              "    </tr>\n",
              "    <tr>\n",
              "      <th>FLAG_OWN_REALTY</th>\n",
              "      <td>0</td>\n",
              "    </tr>\n",
              "    <tr>\n",
              "      <th>CNT_CHILDREN</th>\n",
              "      <td>0</td>\n",
              "    </tr>\n",
              "    <tr>\n",
              "      <th>AMT_INCOME_TOTAL</th>\n",
              "      <td>0</td>\n",
              "    </tr>\n",
              "    <tr>\n",
              "      <th>AMT_CREDIT</th>\n",
              "      <td>0</td>\n",
              "    </tr>\n",
              "    <tr>\n",
              "      <th>AMT_ANNUITY</th>\n",
              "      <td>12</td>\n",
              "    </tr>\n",
              "    <tr>\n",
              "      <th>AMT_GOODS_PRICE</th>\n",
              "      <td>278</td>\n",
              "    </tr>\n",
              "    <tr>\n",
              "      <th>NAME_TYPE_SUITE</th>\n",
              "      <td>1292</td>\n",
              "    </tr>\n",
              "    <tr>\n",
              "      <th>NAME_INCOME_TYPE</th>\n",
              "      <td>0</td>\n",
              "    </tr>\n",
              "    <tr>\n",
              "      <th>NAME_EDUCATION_TYPE</th>\n",
              "      <td>0</td>\n",
              "    </tr>\n",
              "    <tr>\n",
              "      <th>NAME_FAMILY_STATUS</th>\n",
              "      <td>0</td>\n",
              "    </tr>\n",
              "    <tr>\n",
              "      <th>NAME_HOUSING_TYPE</th>\n",
              "      <td>0</td>\n",
              "    </tr>\n",
              "    <tr>\n",
              "      <th>REGION_POPULATION_RELATIVE</th>\n",
              "      <td>0</td>\n",
              "    </tr>\n",
              "    <tr>\n",
              "      <th>DAYS_BIRTH</th>\n",
              "      <td>0</td>\n",
              "    </tr>\n",
              "    <tr>\n",
              "      <th>DAYS_EMPLOYED</th>\n",
              "      <td>0</td>\n",
              "    </tr>\n",
              "    <tr>\n",
              "      <th>DAYS_REGISTRATION</th>\n",
              "      <td>0</td>\n",
              "    </tr>\n",
              "    <tr>\n",
              "      <th>DAYS_ID_PUBLISH</th>\n",
              "      <td>0</td>\n",
              "    </tr>\n",
              "    <tr>\n",
              "      <th>OWN_CAR_AGE</th>\n",
              "      <td>202929</td>\n",
              "    </tr>\n",
              "    <tr>\n",
              "      <th>FLAG_MOBIL</th>\n",
              "      <td>0</td>\n",
              "    </tr>\n",
              "    <tr>\n",
              "      <th>FLAG_EMP_PHONE</th>\n",
              "      <td>0</td>\n",
              "    </tr>\n",
              "    <tr>\n",
              "      <th>FLAG_WORK_PHONE</th>\n",
              "      <td>0</td>\n",
              "    </tr>\n",
              "    <tr>\n",
              "      <th>FLAG_CONT_MOBILE</th>\n",
              "      <td>0</td>\n",
              "    </tr>\n",
              "    <tr>\n",
              "      <th>FLAG_PHONE</th>\n",
              "      <td>0</td>\n",
              "    </tr>\n",
              "    <tr>\n",
              "      <th>FLAG_EMAIL</th>\n",
              "      <td>0</td>\n",
              "    </tr>\n",
              "    <tr>\n",
              "      <th>OCCUPATION_TYPE</th>\n",
              "      <td>96391</td>\n",
              "    </tr>\n",
              "    <tr>\n",
              "      <th>CNT_FAM_MEMBERS</th>\n",
              "      <td>2</td>\n",
              "    </tr>\n",
              "    <tr>\n",
              "      <th>REGION_RATING_CLIENT</th>\n",
              "      <td>0</td>\n",
              "    </tr>\n",
              "    <tr>\n",
              "      <th>REGION_RATING_CLIENT_W_CITY</th>\n",
              "      <td>0</td>\n",
              "    </tr>\n",
              "    <tr>\n",
              "      <th>WEEKDAY_APPR_PROCESS_START</th>\n",
              "      <td>0</td>\n",
              "    </tr>\n",
              "    <tr>\n",
              "      <th>HOUR_APPR_PROCESS_START</th>\n",
              "      <td>0</td>\n",
              "    </tr>\n",
              "    <tr>\n",
              "      <th>REG_REGION_NOT_LIVE_REGION</th>\n",
              "      <td>0</td>\n",
              "    </tr>\n",
              "    <tr>\n",
              "      <th>REG_REGION_NOT_WORK_REGION</th>\n",
              "      <td>0</td>\n",
              "    </tr>\n",
              "    <tr>\n",
              "      <th>LIVE_REGION_NOT_WORK_REGION</th>\n",
              "      <td>0</td>\n",
              "    </tr>\n",
              "    <tr>\n",
              "      <th>REG_CITY_NOT_LIVE_CITY</th>\n",
              "      <td>0</td>\n",
              "    </tr>\n",
              "    <tr>\n",
              "      <th>REG_CITY_NOT_WORK_CITY</th>\n",
              "      <td>0</td>\n",
              "    </tr>\n",
              "    <tr>\n",
              "      <th>LIVE_CITY_NOT_WORK_CITY</th>\n",
              "      <td>0</td>\n",
              "    </tr>\n",
              "    <tr>\n",
              "      <th>ORGANIZATION_TYPE</th>\n",
              "      <td>0</td>\n",
              "    </tr>\n",
              "    <tr>\n",
              "      <th>EXT_SOURCE_1</th>\n",
              "      <td>173378</td>\n",
              "    </tr>\n",
              "    <tr>\n",
              "      <th>EXT_SOURCE_2</th>\n",
              "      <td>660</td>\n",
              "    </tr>\n",
              "    <tr>\n",
              "      <th>EXT_SOURCE_3</th>\n",
              "      <td>60965</td>\n",
              "    </tr>\n",
              "    <tr>\n",
              "      <th>APARTMENTS_AVG</th>\n",
              "      <td>156061</td>\n",
              "    </tr>\n",
              "    <tr>\n",
              "      <th>BASEMENTAREA_AVG</th>\n",
              "      <td>179943</td>\n",
              "    </tr>\n",
              "    <tr>\n",
              "      <th>YEARS_BEGINEXPLUATATION_AVG</th>\n",
              "      <td>150007</td>\n",
              "    </tr>\n",
              "    <tr>\n",
              "      <th>YEARS_BUILD_AVG</th>\n",
              "      <td>204488</td>\n",
              "    </tr>\n",
              "    <tr>\n",
              "      <th>COMMONAREA_AVG</th>\n",
              "      <td>214865</td>\n",
              "    </tr>\n",
              "    <tr>\n",
              "      <th>ELEVATORS_AVG</th>\n",
              "      <td>163891</td>\n",
              "    </tr>\n",
              "    <tr>\n",
              "      <th>ENTRANCES_AVG</th>\n",
              "      <td>154828</td>\n",
              "    </tr>\n",
              "    <tr>\n",
              "      <th>FLOORSMAX_AVG</th>\n",
              "      <td>153020</td>\n",
              "    </tr>\n",
              "    <tr>\n",
              "      <th>FLOORSMIN_AVG</th>\n",
              "      <td>208642</td>\n",
              "    </tr>\n",
              "    <tr>\n",
              "      <th>LANDAREA_AVG</th>\n",
              "      <td>182590</td>\n",
              "    </tr>\n",
              "    <tr>\n",
              "      <th>LIVINGAPARTMENTS_AVG</th>\n",
              "      <td>210199</td>\n",
              "    </tr>\n",
              "    <tr>\n",
              "      <th>LIVINGAREA_AVG</th>\n",
              "      <td>154350</td>\n",
              "    </tr>\n",
              "    <tr>\n",
              "      <th>NONLIVINGAPARTMENTS_AVG</th>\n",
              "      <td>213514</td>\n",
              "    </tr>\n",
              "    <tr>\n",
              "      <th>NONLIVINGAREA_AVG</th>\n",
              "      <td>169682</td>\n",
              "    </tr>\n",
              "    <tr>\n",
              "      <th>APARTMENTS_MODE</th>\n",
              "      <td>156061</td>\n",
              "    </tr>\n",
              "    <tr>\n",
              "      <th>BASEMENTAREA_MODE</th>\n",
              "      <td>179943</td>\n",
              "    </tr>\n",
              "    <tr>\n",
              "      <th>YEARS_BEGINEXPLUATATION_MODE</th>\n",
              "      <td>150007</td>\n",
              "    </tr>\n",
              "    <tr>\n",
              "      <th>YEARS_BUILD_MODE</th>\n",
              "      <td>204488</td>\n",
              "    </tr>\n",
              "    <tr>\n",
              "      <th>COMMONAREA_MODE</th>\n",
              "      <td>214865</td>\n",
              "    </tr>\n",
              "    <tr>\n",
              "      <th>ELEVATORS_MODE</th>\n",
              "      <td>163891</td>\n",
              "    </tr>\n",
              "    <tr>\n",
              "      <th>ENTRANCES_MODE</th>\n",
              "      <td>154828</td>\n",
              "    </tr>\n",
              "    <tr>\n",
              "      <th>FLOORSMAX_MODE</th>\n",
              "      <td>153020</td>\n",
              "    </tr>\n",
              "    <tr>\n",
              "      <th>FLOORSMIN_MODE</th>\n",
              "      <td>208642</td>\n",
              "    </tr>\n",
              "    <tr>\n",
              "      <th>LANDAREA_MODE</th>\n",
              "      <td>182590</td>\n",
              "    </tr>\n",
              "    <tr>\n",
              "      <th>LIVINGAPARTMENTS_MODE</th>\n",
              "      <td>210199</td>\n",
              "    </tr>\n",
              "    <tr>\n",
              "      <th>LIVINGAREA_MODE</th>\n",
              "      <td>154350</td>\n",
              "    </tr>\n",
              "    <tr>\n",
              "      <th>NONLIVINGAPARTMENTS_MODE</th>\n",
              "      <td>213514</td>\n",
              "    </tr>\n",
              "    <tr>\n",
              "      <th>NONLIVINGAREA_MODE</th>\n",
              "      <td>169682</td>\n",
              "    </tr>\n",
              "    <tr>\n",
              "      <th>APARTMENTS_MEDI</th>\n",
              "      <td>156061</td>\n",
              "    </tr>\n",
              "    <tr>\n",
              "      <th>BASEMENTAREA_MEDI</th>\n",
              "      <td>179943</td>\n",
              "    </tr>\n",
              "    <tr>\n",
              "      <th>YEARS_BEGINEXPLUATATION_MEDI</th>\n",
              "      <td>150007</td>\n",
              "    </tr>\n",
              "    <tr>\n",
              "      <th>YEARS_BUILD_MEDI</th>\n",
              "      <td>204488</td>\n",
              "    </tr>\n",
              "    <tr>\n",
              "      <th>COMMONAREA_MEDI</th>\n",
              "      <td>214865</td>\n",
              "    </tr>\n",
              "    <tr>\n",
              "      <th>ELEVATORS_MEDI</th>\n",
              "      <td>163891</td>\n",
              "    </tr>\n",
              "    <tr>\n",
              "      <th>ENTRANCES_MEDI</th>\n",
              "      <td>154828</td>\n",
              "    </tr>\n",
              "    <tr>\n",
              "      <th>FLOORSMAX_MEDI</th>\n",
              "      <td>153020</td>\n",
              "    </tr>\n",
              "    <tr>\n",
              "      <th>FLOORSMIN_MEDI</th>\n",
              "      <td>208642</td>\n",
              "    </tr>\n",
              "    <tr>\n",
              "      <th>LANDAREA_MEDI</th>\n",
              "      <td>182590</td>\n",
              "    </tr>\n",
              "    <tr>\n",
              "      <th>LIVINGAPARTMENTS_MEDI</th>\n",
              "      <td>210199</td>\n",
              "    </tr>\n",
              "    <tr>\n",
              "      <th>LIVINGAREA_MEDI</th>\n",
              "      <td>154350</td>\n",
              "    </tr>\n",
              "    <tr>\n",
              "      <th>NONLIVINGAPARTMENTS_MEDI</th>\n",
              "      <td>213514</td>\n",
              "    </tr>\n",
              "    <tr>\n",
              "      <th>NONLIVINGAREA_MEDI</th>\n",
              "      <td>169682</td>\n",
              "    </tr>\n",
              "    <tr>\n",
              "      <th>FONDKAPREMONT_MODE</th>\n",
              "      <td>210295</td>\n",
              "    </tr>\n",
              "    <tr>\n",
              "      <th>HOUSETYPE_MODE</th>\n",
              "      <td>154297</td>\n",
              "    </tr>\n",
              "    <tr>\n",
              "      <th>TOTALAREA_MODE</th>\n",
              "      <td>148431</td>\n",
              "    </tr>\n",
              "    <tr>\n",
              "      <th>WALLSMATERIAL_MODE</th>\n",
              "      <td>156341</td>\n",
              "    </tr>\n",
              "    <tr>\n",
              "      <th>EMERGENCYSTATE_MODE</th>\n",
              "      <td>145755</td>\n",
              "    </tr>\n",
              "    <tr>\n",
              "      <th>OBS_30_CNT_SOCIAL_CIRCLE</th>\n",
              "      <td>1021</td>\n",
              "    </tr>\n",
              "    <tr>\n",
              "      <th>DEF_30_CNT_SOCIAL_CIRCLE</th>\n",
              "      <td>1021</td>\n",
              "    </tr>\n",
              "    <tr>\n",
              "      <th>OBS_60_CNT_SOCIAL_CIRCLE</th>\n",
              "      <td>1021</td>\n",
              "    </tr>\n",
              "    <tr>\n",
              "      <th>DEF_60_CNT_SOCIAL_CIRCLE</th>\n",
              "      <td>1021</td>\n",
              "    </tr>\n",
              "    <tr>\n",
              "      <th>DAYS_LAST_PHONE_CHANGE</th>\n",
              "      <td>1</td>\n",
              "    </tr>\n",
              "    <tr>\n",
              "      <th>FLAG_DOCUMENT_2</th>\n",
              "      <td>0</td>\n",
              "    </tr>\n",
              "    <tr>\n",
              "      <th>FLAG_DOCUMENT_3</th>\n",
              "      <td>0</td>\n",
              "    </tr>\n",
              "    <tr>\n",
              "      <th>FLAG_DOCUMENT_4</th>\n",
              "      <td>0</td>\n",
              "    </tr>\n",
              "    <tr>\n",
              "      <th>FLAG_DOCUMENT_5</th>\n",
              "      <td>0</td>\n",
              "    </tr>\n",
              "    <tr>\n",
              "      <th>FLAG_DOCUMENT_6</th>\n",
              "      <td>0</td>\n",
              "    </tr>\n",
              "    <tr>\n",
              "      <th>FLAG_DOCUMENT_7</th>\n",
              "      <td>0</td>\n",
              "    </tr>\n",
              "    <tr>\n",
              "      <th>FLAG_DOCUMENT_8</th>\n",
              "      <td>0</td>\n",
              "    </tr>\n",
              "    <tr>\n",
              "      <th>FLAG_DOCUMENT_9</th>\n",
              "      <td>0</td>\n",
              "    </tr>\n",
              "    <tr>\n",
              "      <th>FLAG_DOCUMENT_10</th>\n",
              "      <td>0</td>\n",
              "    </tr>\n",
              "    <tr>\n",
              "      <th>FLAG_DOCUMENT_11</th>\n",
              "      <td>0</td>\n",
              "    </tr>\n",
              "    <tr>\n",
              "      <th>FLAG_DOCUMENT_12</th>\n",
              "      <td>0</td>\n",
              "    </tr>\n",
              "    <tr>\n",
              "      <th>FLAG_DOCUMENT_13</th>\n",
              "      <td>0</td>\n",
              "    </tr>\n",
              "    <tr>\n",
              "      <th>FLAG_DOCUMENT_14</th>\n",
              "      <td>0</td>\n",
              "    </tr>\n",
              "    <tr>\n",
              "      <th>FLAG_DOCUMENT_15</th>\n",
              "      <td>0</td>\n",
              "    </tr>\n",
              "    <tr>\n",
              "      <th>FLAG_DOCUMENT_16</th>\n",
              "      <td>0</td>\n",
              "    </tr>\n",
              "    <tr>\n",
              "      <th>FLAG_DOCUMENT_17</th>\n",
              "      <td>0</td>\n",
              "    </tr>\n",
              "    <tr>\n",
              "      <th>FLAG_DOCUMENT_18</th>\n",
              "      <td>0</td>\n",
              "    </tr>\n",
              "    <tr>\n",
              "      <th>FLAG_DOCUMENT_19</th>\n",
              "      <td>0</td>\n",
              "    </tr>\n",
              "    <tr>\n",
              "      <th>FLAG_DOCUMENT_20</th>\n",
              "      <td>0</td>\n",
              "    </tr>\n",
              "    <tr>\n",
              "      <th>FLAG_DOCUMENT_21</th>\n",
              "      <td>0</td>\n",
              "    </tr>\n",
              "    <tr>\n",
              "      <th>AMT_REQ_CREDIT_BUREAU_HOUR</th>\n",
              "      <td>41519</td>\n",
              "    </tr>\n",
              "    <tr>\n",
              "      <th>AMT_REQ_CREDIT_BUREAU_DAY</th>\n",
              "      <td>41519</td>\n",
              "    </tr>\n",
              "    <tr>\n",
              "      <th>AMT_REQ_CREDIT_BUREAU_WEEK</th>\n",
              "      <td>41519</td>\n",
              "    </tr>\n",
              "    <tr>\n",
              "      <th>AMT_REQ_CREDIT_BUREAU_MON</th>\n",
              "      <td>41519</td>\n",
              "    </tr>\n",
              "    <tr>\n",
              "      <th>AMT_REQ_CREDIT_BUREAU_QRT</th>\n",
              "      <td>41519</td>\n",
              "    </tr>\n",
              "    <tr>\n",
              "      <th>AMT_REQ_CREDIT_BUREAU_YEAR</th>\n",
              "      <td>41519</td>\n",
              "    </tr>\n",
              "  </tbody>\n",
              "</table>"
            ]
          },
          "metadata": {},
          "execution_count": 14
        }
      ]
    },
    {
      "cell_type": "markdown",
      "id": "783c5bb6-6b6d-4e34-bbe2-3a5dc319a4f0",
      "metadata": {
        "id": "783c5bb6-6b6d-4e34-bbe2-3a5dc319a4f0"
      },
      "source": [
        "**Analyzing distribution of variables**"
      ]
    },
    {
      "cell_type": "markdown",
      "id": "9c79d319-bde8-47a4-890d-6694edf221e2",
      "metadata": {
        "id": "9c79d319-bde8-47a4-890d-6694edf221e2"
      },
      "source": [
        "1- Show the distribution of credit amounts"
      ]
    },
    {
      "cell_type": "code",
      "execution_count": null,
      "id": "bc953042-9744-498e-a435-fa660e76c70d",
      "metadata": {
        "id": "bc953042-9744-498e-a435-fa660e76c70d",
        "colab": {
          "base_uri": "https://localhost:8080/",
          "height": 385
        },
        "outputId": "95aef651-8937-4a75-ba64-5939402164a3"
      },
      "outputs": [
        {
          "output_type": "display_data",
          "data": {
            "text/plain": [
              "<Figure size 360x360 with 1 Axes>"
            ],
            "image/png": "[encoded data removed]"
          },
          "metadata": {
            "needs_background": "light"
          }
        }
      ],
      "source": [
        "#Distribution of credit amounts\n",
        "sns.displot(data=application_train_df, x=application_train_df[\"AMT_CREDIT\"]/100000, kind=\"kde\").set(title='Credit Amounts Distribution') #by 100k\n",
        "plt.show()"
      ]
    },
    {
      "cell_type": "markdown",
      "id": "f4e7bf4a-25c7-47c0-aea8-ed916d8827f6",
      "metadata": {
        "id": "f4e7bf4a-25c7-47c0-aea8-ed916d8827f6"
      },
      "source": [
        "2- Plot the education level of the credit applicants, show the percentages of each category. Also print the total counts for each category."
      ]
    },
    {
      "cell_type": "code",
      "execution_count": null,
      "id": "406d7d06-b21a-4938-8e3d-11798def489b",
      "metadata": {
        "id": "406d7d06-b21a-4938-8e3d-11798def489b",
        "colab": {
          "base_uri": "https://localhost:8080/",
          "height": 389
        },
        "outputId": "ea06bf2d-8fa2-424a-ddb5-f91f3eb8d8fd"
      },
      "outputs": [
        {
          "output_type": "display_data",
          "data": {
            "text/plain": [
              "<Figure size 1008x432 with 1 Axes>"
            ],
            "image/png": "[encoded data removed]"
          },
          "metadata": {
            "needs_background": "light"
          }
        }
      ],
      "source": [
        "### Complete in this cell: level of education plot\n",
        "plt.figure(figsize=(14,6))\n",
        "sns.countplot(data=application_train_df, x='NAME_EDUCATION_TYPE', palette='Pastel1')\n",
        "plt.show()"
      ]
    },
    {
      "cell_type": "code",
      "source": [
        "freq_0 = application_train_df['NAME_EDUCATION_TYPE'].value_counts() \n",
        "secondary     = freq_0[0]\n",
        "higher_ed     = freq_0[1]\n",
        "inc_higher    = freq_0[2] \n",
        "low_secondary = freq_0[3]\n",
        "academic_deg  = freq_0[4]\n",
        "\n",
        "a = secondary/total\n",
        "b = higher_ed/total\n",
        "c = inc_higher/total\n",
        "d = low_secondary/total\n",
        "e = academic_deg/total\n",
        "\n",
        "print(\"The total value of persons with the Secondary school as it maximum educational level is of\",secondary,\"with a percentage of\",round(a,3)*100,\"%\")\n",
        "print(\"The total value of persons with Higher education as it maximum educational level is of\",higher_ed,\"with a percentage of\",round(b,4)*100,\"%\")\n",
        "print(\"The total value of persons with Incomplete Higher education as it maximum educational level is of\",inc_higher,\"with a percentage of\",round(c,4)*100,\"%\")\n",
        "print(\"The total value of persons without having finished Secondary school as it maximum educational level is of\",low_secondary,\"with a percentage of\",round(d,4)*100,\"%\")\n",
        "print(\"The total value of persons with an Academical degree as it maximum educational level is of\",academic_deg,\"with a percentage of\",round(e,4)*100,\"%\")"
      ],
      "metadata": {
        "id": "xjwLH5zoLvVR",
        "colab": {
          "base_uri": "https://localhost:8080/"
        },
        "outputId": "787c3d3b-1d76-4788-9c47-e748481e7704"
      },
      "id": "xjwLH5zoLvVR",
      "execution_count": null,
      "outputs": [
        {
          "output_type": "stream",
          "name": "stdout",
          "text": [
            "The total value of persons with the Secondary school as it maximum educational level is of 218391 with a percentage of 71.0 %\n",
            "The total value of persons with Higher education as it maximum educational level is of 74863 with a percentage of 24.34 %\n",
            "The total value of persons with Incomplete Higher education as it maximum educational level is of 10277 with a percentage of 3.34 %\n",
            "The total value of persons without having finished Secondary school as it maximum educational level is of 3816 with a percentage of 1.24 %\n",
            "The total value of persons with an Academical degree as it maximum educational level is of 164 with a percentage of 0.05 %\n"
          ]
        }
      ]
    },
    {
      "cell_type": "markdown",
      "id": "78e17d30-acce-4b7f-bacc-af488cda3e7d",
      "metadata": {
        "id": "78e17d30-acce-4b7f-bacc-af488cda3e7d"
      },
      "source": [
        "3- Plot the distribution of ocupation of the loan applicants"
      ]
    },
    {
      "cell_type": "code",
      "execution_count": null,
      "id": "ec101d97-c77b-4e5d-b69f-7c2f8f652d8f",
      "metadata": {
        "id": "ec101d97-c77b-4e5d-b69f-7c2f8f652d8f",
        "colab": {
          "base_uri": "https://localhost:8080/",
          "height": 267
        },
        "outputId": "725da869-e192-4429-c4e8-538effca0683"
      },
      "outputs": [
        {
          "output_type": "display_data",
          "data": {
            "text/plain": [
              "<Figure size 2448x432 with 1 Axes>"
            ],
            "image/png": "[encoded data removed]"
          },
          "metadata": {
            "needs_background": "light"
          }
        }
      ],
      "source": [
        "#Distribution pf the applicant´s occupations\n",
        "plt.figure(figsize=(34,6))\n",
        "sns.countplot(data=application_train_df, x=\"OCCUPATION_TYPE\", palette='Pastel1')\n",
        "plt.show()"
      ]
    },
    {
      "cell_type": "markdown",
      "id": "824b1bc0-4dad-4ce8-b574-cbae5984a589",
      "metadata": {
        "id": "824b1bc0-4dad-4ce8-b574-cbae5984a589"
      },
      "source": [
        "4- Plot the family status of the applicants"
      ]
    },
    {
      "cell_type": "code",
      "execution_count": null,
      "id": "95463328-4392-435e-a203-95e28998930b",
      "metadata": {
        "id": "95463328-4392-435e-a203-95e28998930b",
        "colab": {
          "base_uri": "https://localhost:8080/",
          "height": 389
        },
        "outputId": "4fbd1840-c182-4135-ec5c-401063f00d5b"
      },
      "outputs": [
        {
          "output_type": "display_data",
          "data": {
            "text/plain": [
              "<Figure size 1008x432 with 1 Axes>"
            ],
            "image/png": "[encoded data removed]"
          },
          "metadata": {
            "needs_background": "light"
          }
        }
      ],
      "source": [
        "#Family status\n",
        "plt.figure(figsize=(14,6))\n",
        "sns.countplot(data=application_train_df, x=\"NAME_FAMILY_STATUS\", palette='Pastel1')\n",
        "plt.show()"
      ]
    },
    {
      "cell_type": "markdown",
      "id": "efa77db6-a50a-454e-b1b2-83abe3c8baae",
      "metadata": {
        "id": "efa77db6-a50a-454e-b1b2-83abe3c8baae"
      },
      "source": [
        "5- Plot the income type of applicants grouped by the target variable"
      ]
    },
    {
      "cell_type": "code",
      "execution_count": null,
      "id": "f22c3267-56c8-45fc-9184-b822cd026571",
      "metadata": {
        "id": "f22c3267-56c8-45fc-9184-b822cd026571",
        "colab": {
          "base_uri": "https://localhost:8080/",
          "height": 389
        },
        "outputId": "5142c77f-36df-4b28-df87-3ee2cfc551b6"
      },
      "outputs": [
        {
          "output_type": "display_data",
          "data": {
            "text/plain": [
              "<Figure size 1008x432 with 1 Axes>"
            ],
            "image/png": "[encoded data removed]"
          },
          "metadata": {
            "needs_background": "light"
          }
        }
      ],
      "source": [
        "#Income type of applicants by target variable\n",
        "plt.figure(figsize=(14,6))\n",
        "sns.countplot(data=application_train_df, x=\"NAME_INCOME_TYPE\", hue=\"TARGET\", palette='Pastel1')\n",
        "plt.show()"
      ]
    },
    {
      "cell_type": "markdown",
      "id": "675b1ae3-c943-4737-bdb8-2ecff733b27b",
      "metadata": {
        "id": "675b1ae3-c943-4737-bdb8-2ecff733b27b"
      },
      "source": [
        "## Preprocessing"
      ]
    },
    {
      "cell_type": "markdown",
      "id": "51397c38-0204-454b-8fe6-011dc8c38418",
      "metadata": {
        "id": "51397c38-0204-454b-8fe6-011dc8c38418"
      },
      "source": [
        "In this section, you will code a function to make all the data pre processing for the dataset. What you have to deliver is a function that takes the train and test dataframes, processes all features, and returns the transformed data as numpy arrays ready to be used for training."
      ]
    },
    {
      "cell_type": "markdown",
      "id": "b72d36eb-3ae5-40b3-b9d2-48f6abdeb734",
      "metadata": {
        "id": "b72d36eb-3ae5-40b3-b9d2-48f6abdeb734"
      },
      "source": [
        "The function should perform these activities:\n",
        "\n",
        "- Correct outliers/anomalous values in numerical columns (hint: take a look at the DAYS_EMPLOYED column)\n",
        "- Impute values for all columns with missing data (use median as imputing value)\n",
        "- Encode categorical features:\n",
        "    - If feature has 2 categories encode using binary encoding\n",
        "    - More than 2 categories, use one hot encoding \n",
        "- Feature scaling\n",
        "\n",
        "Keep in mind that you could get different number of columns in train and test because some category could only be present in one of the dataframes, this could create more one hot encoded columns. You should align train and test to have the same number of columns"
      ]
    },
    {
      "cell_type": "code",
      "source": [
        "prueba_train = application_train_df\n",
        "prueba_test = application_test_df"
      ],
      "metadata": {
        "id": "T7JFYKqj7k2q"
      },
      "id": "T7JFYKqj7k2q",
      "execution_count": null,
      "outputs": []
    },
    {
      "cell_type": "code",
      "source": [
        "\"\"\"OBS:It has to be taken a particular consideration to the feature DAYS_EMPLOYED, if we take a look into that columns there is a \n",
        "particularity that there are a lot of clients with the value of 365243...\"\"\"\n",
        "count = 0\n",
        "for index, columns in prueba_train.iterrows():\n",
        "  if columns[\"DAYS_EMPLOYED\"] == 365243:\n",
        "    count = count + 1\n",
        "\n",
        "count1 = 0\n",
        "for index, columns in prueba_test.iterrows():\n",
        "  if columns[\"DAYS_EMPLOYED\"] == 365243:\n",
        "    count1 = count1 + 1\n",
        "\n",
        "print(\"There are\",count,\"clients with 365243 as a value\")\n",
        "print(\"There are\",count1,\"clients with 365243 as a value\")\n",
        "\n",
        "\"\"\"So, just in this example it represents a little bit less than the 20% of the whole dataframe, there are so much errors that the\n",
        "outliers can not be detected, so I have to directly eliminate them before even starting the outliers detection part...\"\"\"\n",
        "\n",
        "for index, columns in prueba_train.iterrows():\n",
        "  if columns[\"DAYS_EMPLOYED\"] == 365243:\n",
        "    prueba_train.loc[index, \"DAYS_EMPLOYED\" ] = np.nan\n",
        "\n",
        "for index, columns in prueba_test.iterrows():\n",
        "  if columns[\"DAYS_EMPLOYED\"] == 365243:\n",
        "    prueba_test.loc[index, \"DAYS_EMPLOYED\" ] = np.nan\n",
        "\n",
        "count = 0\n",
        "for index, columns in prueba_train.iterrows():\n",
        "  if columns[\"DAYS_EMPLOYED\"] == 365243:\n",
        "    count = count + 1\n",
        "count1 = 0\n",
        "for index, columns in prueba_test.iterrows():\n",
        "  if columns[\"DAYS_EMPLOYED\"] == 365243:\n",
        "    count1 = count1 + 1\n",
        "\n",
        "print(\"There are\",count,\"clients with 365243 as a value\")\n",
        "print(\"There are\",count1,\"clients with 365243 as a value\")\n"
      ],
      "metadata": {
        "id": "C01v4CeeOVdx",
        "colab": {
          "base_uri": "https://localhost:8080/"
        },
        "outputId": "7f710068-6c38-4540-ee42-77afdcfb0ac3"
      },
      "id": "C01v4CeeOVdx",
      "execution_count": null,
      "outputs": [
        {
          "output_type": "stream",
          "name": "stdout",
          "text": [
            "There are 55374 clients with 365243 as a value\n",
            "There are 9274 clients with 365243 as a value\n",
            "There are 0 clients with 365243 as a value\n",
            "There are 0 clients with 365243 as a value\n"
          ]
        }
      ]
    },
    {
      "cell_type": "markdown",
      "source": [
        "Correcting Outliers"
      ],
      "metadata": {
        "id": "CiJmpgiRASU4"
      },
      "id": "CiJmpgiRASU4"
    },
    {
      "cell_type": "code",
      "source": [
        "def outliers(dataframe, feat):\n",
        "  Q1  = dataframe[feat].quantile(0.10)\n",
        "  Q3  = dataframe[feat].quantile(0.90)\n",
        "  IQR = Q3 - Q1\n",
        "\n",
        "  lower_bound = Q1 - 1.5*IQR\n",
        "  upper_bound = Q3 + 1.5*IQR\n",
        "\n",
        "  ls = dataframe.index[(dataframe[feat] < lower_bound) | (dataframe[feat] > upper_bound)]\n",
        "  warnings.filterwarnings('ignore')\n",
        "\n",
        "  return ls"
      ],
      "metadata": {
        "id": "l6Owe6NXsx7g"
      },
      "id": "l6Owe6NXsx7g",
      "execution_count": null,
      "outputs": []
    },
    {
      "cell_type": "code",
      "source": [
        "def fill_with_empty(dataframe, feat, indexs):\n",
        "  for j in range(len(indexs)): \n",
        "    dataframe.loc[indexs[j], feat] = np.nan\n",
        "    warnings.filterwarnings('ignore')\n",
        "\n",
        "  return"
      ],
      "metadata": {
        "id": "SpTc48hNdqyF"
      },
      "id": "SpTc48hNdqyF",
      "execution_count": null,
      "outputs": []
    },
    {
      "cell_type": "code",
      "source": [
        "def detecting_filling(dataframe):\n",
        "  for i in range(len(numerical_features)):\n",
        "    outs = outliers(dataframe, str(numerical_features[i]))\n",
        "    fill_with_empty(dataframe, str(numerical_features[i]), outs)\n",
        "\n",
        "    return dataframe"
      ],
      "metadata": {
        "id": "hCrCs6p_0X8C"
      },
      "id": "hCrCs6p_0X8C",
      "execution_count": null,
      "outputs": []
    },
    {
      "cell_type": "markdown",
      "source": [
        "Missing Data"
      ],
      "metadata": {
        "id": "5iW2ryBvrEgY"
      },
      "id": "5iW2ryBvrEgY"
    },
    {
      "cell_type": "code",
      "source": [
        "from sklearn.impute import SimpleImputer"
      ],
      "metadata": {
        "id": "HjcPt6YwkE7Q"
      },
      "id": "HjcPt6YwkE7Q",
      "execution_count": null,
      "outputs": []
    },
    {
      "cell_type": "code",
      "source": [
        "#Impute values for all columns missing data\n",
        "\n",
        "def imputing_missingdata(dataframe):\n",
        "  #Numerical Features\n",
        "  simp_imp = SimpleImputer(strategy=\"median\")\n",
        "  for i in range(len(all_features)):\n",
        "      for j in range(len(numerical_features)):\n",
        "        if all_features[i] == numerical_features[j]:\n",
        "          simp_imp.fit(dataframe[str(numerical_features[j])].values.reshape(-1, 1))\n",
        "          dataframe[str(numerical_features[j])] = simp_imp.transform(dataframe[str(numerical_features[j])].values.reshape(-1, 1))\n",
        "\n",
        "  #Categorical Features \n",
        "  simp_imp_0 = SimpleImputer(strategy=\"most_frequent\")\n",
        "  for i in range(len(all_features)):\n",
        "      for j in range(len(categorical_features)):\n",
        "        if all_features[i] == categorical_features[j]:\n",
        "          simp_imp_0.fit(dataframe[str(categorical_features[j])].values.reshape(-1, 1))\n",
        "          dataframe[str(categorical_features[j])] = simp_imp_0.transform(dataframe[str(categorical_features[j])].values.reshape(-1, 1))\n",
        "\n",
        "  return dataframe"
      ],
      "metadata": {
        "id": "hvj4M0XtkC3b"
      },
      "id": "hvj4M0XtkC3b",
      "execution_count": null,
      "outputs": []
    },
    {
      "cell_type": "markdown",
      "source": [
        "Encoding Categorical Features"
      ],
      "metadata": {
        "id": "h088lo-v2XMp"
      },
      "id": "h088lo-v2XMp"
    },
    {
      "cell_type": "code",
      "source": [
        "from sklearn.preprocessing import OneHotEncoder"
      ],
      "metadata": {
        "id": "13QVQKfF27lu"
      },
      "id": "13QVQKfF27lu",
      "execution_count": null,
      "outputs": []
    },
    {
      "cell_type": "code",
      "source": [
        "def encoding(dataframe):\n",
        "  encoder = OneHotEncoder().fit(dataframe[categorical_features])\n",
        "  dataframe = pd.concat(\n",
        "      [\n",
        "          dataframe,\n",
        "          pd.DataFrame(\n",
        "              encoder.transform(dataframe[categorical_features]).toarray(),\n",
        "              index=dataframe.index,\n",
        "              columns=encoder.get_feature_names(categorical_features)\n",
        "          )\n",
        "      ],\n",
        "      axis=1\n",
        "  )\n",
        "  dataframe.drop(categorical_features, axis=1, inplace=True)\n",
        "\n",
        "  return dataframe"
      ],
      "metadata": {
        "id": "2KP7zb6t2dii"
      },
      "id": "2KP7zb6t2dii",
      "execution_count": null,
      "outputs": []
    },
    {
      "cell_type": "markdown",
      "source": [
        "Scaling"
      ],
      "metadata": {
        "id": "XAKw7hTL6QUf"
      },
      "id": "XAKw7hTL6QUf"
    },
    {
      "cell_type": "code",
      "source": [
        "from sklearn.preprocessing import StandardScaler"
      ],
      "metadata": {
        "id": "R6kHLiTe6S9a"
      },
      "id": "R6kHLiTe6S9a",
      "execution_count": null,
      "outputs": []
    },
    {
      "cell_type": "code",
      "source": [
        "def scaling(dataframe, dataframe1):\n",
        "  scaler = StandardScaler()\n",
        "  \n",
        "  new_features = dataframe.columns\n",
        "  dataframe[new_features] = scaler.fit_transform(dataframe[new_features])\n",
        "\n",
        "  new_features_1 = dataframe1.columns\n",
        "  dataframe1[new_features_1] = scaler.transform(dataframe1[new_features_1])\n",
        "  \n",
        "  return dataframe, dataframe1"
      ],
      "metadata": {
        "id": "qo-a8C-N4FRW"
      },
      "id": "qo-a8C-N4FRW",
      "execution_count": null,
      "outputs": []
    },
    {
      "cell_type": "markdown",
      "source": [
        "Function Definition"
      ],
      "metadata": {
        "id": "LYrHx45z9gmq"
      },
      "id": "LYrHx45z9gmq"
    },
    {
      "cell_type": "code",
      "source": [
        "def data_preprocessing(train, test):\n",
        "  #Correct Outliers\n",
        "  numerical_features.remove(\"SK_ID_CURR\")\n",
        "  numerical_features.remove(\"TARGET\")\n",
        "  train = detecting_filling(train)\n",
        "  #Impute values for all columns missing data\n",
        "  train = imputing_missingdata(train)\n",
        "  test  = imputing_missingdata(test)\n",
        "  #Encode categorical features\n",
        "  train = encoding(train)\n",
        "  test  = encoding(test)\n",
        "  #Alignating Columns\n",
        "  train, test = train.align(test, join = 'inner', axis = 1)\n",
        "  #Feature Scaling\n",
        "  if len(train.columns) == len(test.columns):\n",
        "    train, test = scaling(train, test)\n",
        "  else:\n",
        "    A = set(train.columns)\n",
        "    B = set(test.columns)\n",
        "    if len(A) > len(B):\n",
        "      C = A.intersection(B)\n",
        "      D = A - C \n",
        "      print(\"You should add this columns to the test Dataframe:\",D)\n",
        "    elif len(B) > len(A):\n",
        "      C = A.intersection(B)\n",
        "      D = B - C\n",
        "      print(\"You should add this columns Train Dataframe:\",D)\n",
        "\n",
        "  return train, test"
      ],
      "metadata": {
        "id": "R0WibvVo8TLy"
      },
      "id": "R0WibvVo8TLy",
      "execution_count": null,
      "outputs": []
    },
    {
      "cell_type": "code",
      "source": [
        "  y            = prueba_train[\"TARGET\"]\n",
        "  z            = prueba_train['SK_ID_CURR'] \n",
        "  prueba_train = prueba_train.drop(['TARGET','SK_ID_CURR'], axis=1)\n",
        "  q            = prueba_test['SK_ID_CURR']\n",
        "  prueba_test  = prueba_test.drop(['SK_ID_CURR'], axis=1)"
      ],
      "metadata": {
        "id": "fyI3T8lVcjdY"
      },
      "id": "fyI3T8lVcjdY",
      "execution_count": null,
      "outputs": []
    },
    {
      "cell_type": "code",
      "source": [
        "postprueba_train, postprueba_test = data_preprocessing(prueba_train, prueba_test)"
      ],
      "metadata": {
        "id": "gyWv4TcbBt7V"
      },
      "id": "gyWv4TcbBt7V",
      "execution_count": null,
      "outputs": []
    },
    {
      "cell_type": "markdown",
      "id": "2f5df1e8-1f03-4f14-9dbd-292d3b84859d",
      "metadata": {
        "id": "2f5df1e8-1f03-4f14-9dbd-292d3b84859d"
      },
      "source": [
        "## Training Models"
      ]
    },
    {
      "cell_type": "markdown",
      "id": "83062f02-7157-4083-b57b-78fbc95fe39b",
      "metadata": {
        "id": "83062f02-7157-4083-b57b-78fbc95fe39b"
      },
      "source": [
        "As usual, you will start training simple models and will progressively move to more complex models and pipelines."
      ]
    },
    {
      "cell_type": "code",
      "source": [
        "X       = postprueba_train.copy() \n",
        "X_test  = postprueba_test.copy()"
      ],
      "metadata": {
        "id": "L21VIX4VPSUK"
      },
      "id": "L21VIX4VPSUK",
      "execution_count": null,
      "outputs": []
    },
    {
      "cell_type": "markdown",
      "id": "7e99a786-a17e-4caa-9ac7-48fced40fa71",
      "metadata": {
        "id": "7e99a786-a17e-4caa-9ac7-48fced40fa71"
      },
      "source": [
        "### Baseline: LogisticRegression"
      ]
    },
    {
      "cell_type": "markdown",
      "id": "91e10796-6d86-4fce-8738-4b9c4fbbf359",
      "metadata": {
        "id": "91e10796-6d86-4fce-8738-4b9c4fbbf359"
      },
      "source": [
        "1- Import LogisticRegression from sklearn and train a model using the preprocesed train data from the previous section, and just default parameters. If you receive a warning because the algorithm failed to converge, try increasing the number of iterations or decreasing the C parameter "
      ]
    },
    {
      "cell_type": "code",
      "source": [
        "from sklearn.linear_model import LogisticRegression"
      ],
      "metadata": {
        "id": "RYmKZ7aZpVVj"
      },
      "id": "RYmKZ7aZpVVj",
      "execution_count": null,
      "outputs": []
    },
    {
      "cell_type": "code",
      "execution_count": null,
      "id": "e1285054-4ea6-4bdb-9477-e774fc3d04c5",
      "metadata": {
        "id": "e1285054-4ea6-4bdb-9477-e774fc3d04c5",
        "colab": {
          "base_uri": "https://localhost:8080/"
        },
        "outputId": "7d90e21a-768e-4db1-f5ab-880bc984295f"
      },
      "outputs": [
        {
          "output_type": "stream",
          "name": "stdout",
          "text": [
            "The time it takes to fit the model is 19 seconds.\n"
          ]
        }
      ],
      "source": [
        "lr = LogisticRegression()\n",
        "inicio = time.time()\n",
        "lr.fit(X,y)\n",
        "fin = time.time()\n",
        "print(\"The time it takes to fit the model is\",round(fin-inicio),\"seconds.\")"
      ]
    },
    {
      "cell_type": "markdown",
      "id": "018d5c7e-012f-47cc-8bfc-0332de907ae9",
      "metadata": {
        "id": "018d5c7e-012f-47cc-8bfc-0332de907ae9"
      },
      "source": [
        "2- Use the trained model to predict probabilites for the test data, and then save the results to a csv in the format expected in the competition: a SK_ID_CURR column and a TARGET column with probabilities. REMEMBER: the TARGET columns should ONLY contain the probabilities that the debt is not repaid (equivalent to the class 1)."
      ]
    },
    {
      "cell_type": "code",
      "execution_count": null,
      "id": "798ae69b-1fe2-458d-9de7-3e1ed70b9b02",
      "metadata": {
        "id": "798ae69b-1fe2-458d-9de7-3e1ed70b9b02"
      },
      "outputs": [],
      "source": [
        "def calculating_probability(model):\n",
        "  probabilidades_prediccion = model.predict_proba(X_test)\n",
        "  probabilidades_positivas = probabilidades_prediccion[:,1]\n",
        "  probabilidades_positivas = probabilidades_positivas.tolist()\n",
        "\n",
        "  X_test['SK_ID_CURR'] = q\n",
        "  X_test[\"TARGET\"] = probabilidades_positivas\n",
        "\n",
        "  probability_df = pd.DataFrame()\n",
        "  probability_df[\"SK_ID_CURR\"] = X_test[\"SK_ID_CURR\"]\n",
        "  probability_df[\"TARGET\"] = probabilidades_positivas\n",
        "\n",
        "  probability_df[\"SK_ID_CURR\"] = probability_df[\"SK_ID_CURR\"].astype(int)\n",
        "\n",
        "  return probability_df"
      ]
    },
    {
      "cell_type": "code",
      "source": [
        "probability_lr = calculating_probability(lr)\n",
        "probability_lr.to_csv(\"competition_lr_df.csv\", index=False)"
      ],
      "metadata": {
        "id": "zWOsWU2Iw19C"
      },
      "id": "zWOsWU2Iw19C",
      "execution_count": null,
      "outputs": []
    },
    {
      "cell_type": "markdown",
      "id": "b0826305-4900-4ba1-bf25-48205be980c6",
      "metadata": {
        "id": "b0826305-4900-4ba1-bf25-48205be980c6"
      },
      "source": [
        "3- Go to the Kaggle competition, and in the [submissions page](https://www.kaggle.com/competitions/home-credit-default-risk/submit) load your csv file. Report here the result in the private score you obtained."
      ]
    },
    {
      "cell_type": "code",
      "source": [
        "\"\"\"I got a result of 0.73424\"\"\""
      ],
      "metadata": {
        "id": "s8OgrtFLAoo0",
        "colab": {
          "base_uri": "https://localhost:8080/",
          "height": 35
        },
        "outputId": "3693c403-3b55-48dd-df2c-b99cd95d8e0f"
      },
      "id": "s8OgrtFLAoo0",
      "execution_count": null,
      "outputs": [
        {
          "output_type": "execute_result",
          "data": {
            "text/plain": [
              "'I got a result of 0.73424'"
            ],
            "application/vnd.google.colaboratory.intrinsic+json": {
              "type": "string"
            }
          },
          "metadata": {},
          "execution_count": 40
        }
      ]
    },
    {
      "cell_type": "markdown",
      "id": "4d889582-0c21-4789-acac-4d58f8eb74d9",
      "metadata": {
        "id": "4d889582-0c21-4789-acac-4d58f8eb74d9"
      },
      "source": [
        "At this point, the model should produce a result around 0.67 "
      ]
    },
    {
      "cell_type": "markdown",
      "id": "8f8300cc-d8be-4303-9042-757cb9e15d3e",
      "metadata": {
        "id": "8f8300cc-d8be-4303-9042-757cb9e15d3e"
      },
      "source": [
        "### Training a Random Forest Classifier "
      ]
    },
    {
      "cell_type": "markdown",
      "id": "05280b49-11af-4fe6-9236-95f31fb5e0d5",
      "metadata": {
        "id": "05280b49-11af-4fe6-9236-95f31fb5e0d5"
      },
      "source": [
        "You're gonna start working in more complex models: ensambles, particularly, you're going to use the Random Forest Classifier from Scikit Learn. "
      ]
    },
    {
      "cell_type": "markdown",
      "id": "0efdfd67-ec68-49b3-8727-7ab9784b5e54",
      "metadata": {
        "id": "0efdfd67-ec68-49b3-8727-7ab9784b5e54"
      },
      "source": [
        "1- Train a RandomForestClassifier, print the time taken by the fit function. Just use default hyperparameters, except for n_jobs, which should be set to \"-1\" to allow the library to use all CPU cores to speed up training time."
      ]
    },
    {
      "cell_type": "code",
      "source": [
        "X       = postprueba_train.copy() \n",
        "X_test  = postprueba_test.copy()"
      ],
      "metadata": {
        "id": "7HwXWwjFK7aY"
      },
      "id": "7HwXWwjFK7aY",
      "execution_count": null,
      "outputs": []
    },
    {
      "cell_type": "code",
      "source": [
        "from sklearn.ensemble import RandomForestClassifier"
      ],
      "metadata": {
        "id": "FfoPZll7CvOU"
      },
      "id": "FfoPZll7CvOU",
      "execution_count": null,
      "outputs": []
    },
    {
      "cell_type": "code",
      "execution_count": null,
      "id": "1d3b9ea6-4bf9-42f0-aed1-1c0f3a4f9b39",
      "metadata": {
        "id": "1d3b9ea6-4bf9-42f0-aed1-1c0f3a4f9b39",
        "colab": {
          "base_uri": "https://localhost:8080/"
        },
        "outputId": "1284b216-bfdf-489e-8f6f-9e863a157c37"
      },
      "outputs": [
        {
          "output_type": "stream",
          "name": "stdout",
          "text": [
            "The time it takes to fit the model is 149 seconds.\n"
          ]
        }
      ],
      "source": [
        "clf = RandomForestClassifier(n_jobs = -1)\n",
        "inicio = time.time()\n",
        "clf.fit(X, y)\n",
        "fin = time.time()\n",
        "print(\"The time it takes to fit the model is\",round(fin-inicio),\"seconds.\")"
      ]
    },
    {
      "cell_type": "markdown",
      "id": "3b12a0a5-8ff1-4cb6-9928-37122d2a3435",
      "metadata": {
        "id": "3b12a0a5-8ff1-4cb6-9928-37122d2a3435"
      },
      "source": [
        "2- Use the classifier to predict probabilities on the test set, and save the results to a csv file."
      ]
    },
    {
      "cell_type": "code",
      "source": [
        "probability_rf = calculating_probability(clf)\n",
        "probability_rf.to_csv(\"competition_rforest_df.csv\", index=False)"
      ],
      "metadata": {
        "id": "CLveEhlSECVA"
      },
      "id": "CLveEhlSECVA",
      "execution_count": null,
      "outputs": []
    },
    {
      "cell_type": "markdown",
      "id": "40be1079-e800-42b1-96b0-dce1d04c0a86",
      "metadata": {
        "id": "40be1079-e800-42b1-96b0-dce1d04c0a86"
      },
      "source": [
        "3- Load the predictions to the competition. Report the private score here."
      ]
    },
    {
      "cell_type": "code",
      "execution_count": null,
      "id": "66f1180a-a26e-4e67-bcee-2a59bece5271",
      "metadata": {
        "id": "66f1180a-a26e-4e67-bcee-2a59bece5271",
        "colab": {
          "base_uri": "https://localhost:8080/",
          "height": 35
        },
        "outputId": "ff3cd01e-32f0-45da-bcfb-097cf01b3b2e"
      },
      "outputs": [
        {
          "output_type": "execute_result",
          "data": {
            "text/plain": [
              "'I got a result of 0.69163'"
            ],
            "application/vnd.google.colaboratory.intrinsic+json": {
              "type": "string"
            }
          },
          "metadata": {},
          "execution_count": 45
        }
      ],
      "source": [
        "\"\"\"I got a result of 0.69163\"\"\""
      ]
    },
    {
      "cell_type": "markdown",
      "id": "4acfcc24-62b6-4118-9c42-a0268dcf5c53",
      "metadata": {
        "id": "4acfcc24-62b6-4118-9c42-a0268dcf5c53"
      },
      "source": [
        "### Randomized Search with Cross Validation"
      ]
    },
    {
      "cell_type": "markdown",
      "id": "dd634b2b-68af-4db1-b062-1496f8d1179e",
      "metadata": {
        "id": "dd634b2b-68af-4db1-b062-1496f8d1179e"
      },
      "source": [
        "So far, we've only created models using the default hyperparameters of each algorithm. This is usually something that we would only do for baseline models, hyperparameter tuning is a very important part of the modeling process and is often the difference between having an acceptable model or not.\n",
        "\n",
        "But, there are usually lots of hyperparameters to tune and a finite amount of time to do it, you have to consider the time and resources it takes to find an optimal combination of them. In the previous section you trained a random forest classifier and saw how much it took to train it once in your PC. If you want to do hyperparameter optimization you now have to consider that you will have to train the algorithm N number of times, with N being the cartesian product of all parameters. \n",
        "\n",
        "Furthermore, you can't validate the performance of your trained models on the test set, as this data should only be used to validate the final model. So we have to implement a validation strategy, K-Fold Cross Validation being the most common. But this also adds time complexity to our training, because we will have to train each combinations of hyperparameters M number of times, X being the number of folds in which we divided our dataset, so the total number of training iterations will be NxM... this resulting number can grow VERY quickly.\n",
        "\n",
        "Fortunately there are strategies to mitigate this, here you're going to select a small number of hyperparameters to test a RandomForestClassifier, and use a Randomized Search algorithm with K-Fold Cross Validation to avoid doing a full search across the grid. \n",
        "\n",
        "Remember: take in consideration how much time it took to train a single classifier, and define the number of cross validations folds and iterations of the search accordingly. \n",
        "A recommendation: run the training process, go make yourself a cup of coffee, sit somewhere comfortably and forget about it for a while.\n"
      ]
    },
    {
      "cell_type": "markdown",
      "id": "c49a11c7-156f-46bb-8bba-be29d1b2ed1a",
      "metadata": {
        "id": "c49a11c7-156f-46bb-8bba-be29d1b2ed1a"
      },
      "source": [
        "1- Use RandomizedSearchCV to find the best combination of hyperparameters for a RandomForestClassifier. The validation metric used to evaluate the models should be \"roc_auc\"."
      ]
    },
    {
      "cell_type": "code",
      "source": [
        "X       = postprueba_train.copy() \n",
        "X_test  = postprueba_test.copy()"
      ],
      "metadata": {
        "id": "GASb9c8cO_IG"
      },
      "id": "GASb9c8cO_IG",
      "execution_count": null,
      "outputs": []
    },
    {
      "cell_type": "code",
      "source": [
        "from sklearn.model_selection import RandomizedSearchCV"
      ],
      "metadata": {
        "id": "9mpNc4wsQazt"
      },
      "id": "9mpNc4wsQazt",
      "execution_count": null,
      "outputs": []
    },
    {
      "cell_type": "code",
      "execution_count": 51,
      "id": "0cb4c536-82d8-49f8-a0b6-fede491055c1",
      "metadata": {
        "id": "0cb4c536-82d8-49f8-a0b6-fede491055c1",
        "colab": {
          "base_uri": "https://localhost:8080/"
        },
        "outputId": "5eacb40e-6e76-43f6-b2a6-ebfa12d34290"
      },
      "outputs": [
        {
          "output_type": "stream",
          "name": "stdout",
          "text": [
            "The time it takes to fit the model is 2568 seconds.\n",
            "Best params: {'n_estimators': 100, 'min_samples_split': 5, 'min_samples_leaf': 1, 'max_features': 'sqrt', 'max_depth': 70}\n",
            "Best Score: 0.9193232111581947\n",
            "\n"
          ]
        }
      ],
      "source": [
        "param_dist = {\n",
        " 'max_depth': [25, 70],\n",
        " 'max_features': ['sqrt'],\n",
        " 'min_samples_leaf': [1,3],\n",
        " 'min_samples_split': [2, 5],\n",
        " 'n_estimators': [100]\n",
        "}\n",
        "\n",
        "model_random = RandomizedSearchCV(clf, param_dist, n_iter=100, random_state=0, cv=3)\n",
        "inicio = time.time()\n",
        "model_random.fit(X, y)\n",
        "fin = time.time()\n",
        "print(\"The time it takes to fit the model is\",round(fin-inicio),\"seconds.\")\n",
        "\n",
        "print(\"Best params: \"+str(model_random.best_params_))\n",
        "print(\"Best Score: \"+str(model_random.best_score_)+'\\n')"
      ]
    },
    {
      "cell_type": "markdown",
      "id": "b09205aa-5afc-481a-b45b-d5e80b56d804",
      "metadata": {
        "id": "b09205aa-5afc-481a-b45b-d5e80b56d804"
      },
      "source": [
        "2- Use the classifier to predict probabilities on the test set, and save the results to a csv file."
      ]
    },
    {
      "cell_type": "code",
      "source": [
        "probability_rf_hyper = calculating_probability(model_random)\n",
        "probability_rf_hyper.to_csv(\"competition_rforest_hyper_df.csv\", index=False)"
      ],
      "metadata": {
        "id": "o6iVUAPqPqIL"
      },
      "id": "o6iVUAPqPqIL",
      "execution_count": 52,
      "outputs": []
    },
    {
      "cell_type": "markdown",
      "id": "e645e849-a7e0-43af-b7d1-0b84c29f0e70",
      "metadata": {
        "id": "e645e849-a7e0-43af-b7d1-0b84c29f0e70"
      },
      "source": [
        "3- Load the predictions to the competition. Report the private score here."
      ]
    },
    {
      "cell_type": "code",
      "execution_count": null,
      "id": "953f2204-304a-405b-b51b-350f054eb3f4",
      "metadata": {
        "id": "953f2204-304a-405b-b51b-350f054eb3f4"
      },
      "outputs": [],
      "source": [
        "\"\"\"I got a result of 0.69517\"\"\""
      ]
    },
    {
      "cell_type": "markdown",
      "id": "be101430-3682-468d-a43d-8c78f60f96a5",
      "metadata": {
        "id": "be101430-3682-468d-a43d-8c78f60f96a5"
      },
      "source": [
        "4- If you have the time and resources, you can train the model for longer iterations, or select more estimator sizes. This is optional, but if you, we would love to see your results."
      ]
    },
    {
      "cell_type": "markdown",
      "id": "d72e7335-f3cc-410d-81f2-f110f3fbb252",
      "metadata": {
        "id": "d72e7335-f3cc-410d-81f2-f110f3fbb252"
      },
      "source": [
        "### Optional: Training a LightGBM model "
      ]
    },
    {
      "cell_type": "markdown",
      "id": "015d58b7-9f70-4bfb-8b72-20a626e00ea0",
      "metadata": {
        "id": "015d58b7-9f70-4bfb-8b72-20a626e00ea0"
      },
      "source": [
        "Gradient Boosting Machine is one of the most used machine learning algorithms for tabular data. Lots of competitions have been won using models from libraries like XGBoost or LightGBM. You can try using [LightGBM](https://lightgbm.readthedocs.io/en/latest/) to train a new model an see how it performs compared to the other classifiers you trained. "
      ]
    },
    {
      "cell_type": "code",
      "source": [
        "X       = postprueba_train.copy() \n",
        "X_test  = postprueba_test.copy()"
      ],
      "metadata": {
        "id": "gQJ8DVVbVUM8"
      },
      "id": "gQJ8DVVbVUM8",
      "execution_count": 53,
      "outputs": []
    },
    {
      "cell_type": "code",
      "source": [
        "pip install lightgbm"
      ],
      "metadata": {
        "id": "LvuFU_7kUgPx",
        "colab": {
          "base_uri": "https://localhost:8080/"
        },
        "outputId": "f5c10ce0-6c74-4fc6-90f4-58ab0d2f4dec"
      },
      "id": "LvuFU_7kUgPx",
      "execution_count": 54,
      "outputs": [
        {
          "output_type": "stream",
          "name": "stdout",
          "text": [
            "Requirement already satisfied: lightgbm in /usr/local/lib/python3.7/dist-packages (2.2.3)\n",
            "Requirement already satisfied: numpy in /usr/local/lib/python3.7/dist-packages (from lightgbm) (1.21.6)\n",
            "Requirement already satisfied: scipy in /usr/local/lib/python3.7/dist-packages (from lightgbm) (1.4.1)\n",
            "Requirement already satisfied: scikit-learn in /usr/local/lib/python3.7/dist-packages (from lightgbm) (1.0.2)\n",
            "Requirement already satisfied: joblib>=0.11 in /usr/local/lib/python3.7/dist-packages (from scikit-learn->lightgbm) (1.1.0)\n",
            "Requirement already satisfied: threadpoolctl>=2.0.0 in /usr/local/lib/python3.7/dist-packages (from scikit-learn->lightgbm) (3.1.0)\n"
          ]
        }
      ]
    },
    {
      "cell_type": "code",
      "source": [
        "import lightgbm as lgb"
      ],
      "metadata": {
        "id": "-AnYYXlCaQZR"
      },
      "id": "-AnYYXlCaQZR",
      "execution_count": 55,
      "outputs": []
    },
    {
      "cell_type": "markdown",
      "source": [
        "Creating and Fitting the model."
      ],
      "metadata": {
        "id": "guXVPcbvZcFG"
      },
      "id": "guXVPcbvZcFG"
    },
    {
      "cell_type": "code",
      "execution_count": 56,
      "id": "91d497eb-2b8b-43fe-945e-26a04b8fc004",
      "metadata": {
        "id": "91d497eb-2b8b-43fe-945e-26a04b8fc004",
        "colab": {
          "base_uri": "https://localhost:8080/"
        },
        "outputId": "1fe3331a-894d-48e3-df49-8264ba4c735c"
      },
      "outputs": [
        {
          "output_type": "stream",
          "name": "stdout",
          "text": [
            "The time it takes to fit the model is 79 seconds.\n"
          ]
        }
      ],
      "source": [
        "model = lgb.LGBMClassifier()\n",
        "inicio = time.time()\n",
        "model.fit(X,y)\n",
        "fin = time.time()\n",
        "print(\"The time it takes to fit the model is\",round(fin-inicio),\"seconds.\")"
      ]
    },
    {
      "cell_type": "code",
      "source": [
        "probability_LGM = calculating_probability(model)\n",
        "probability_LGM.to_csv(\"competition_df_LGM.csv\", index=False)"
      ],
      "metadata": {
        "id": "Pk5GnzpsYpJJ"
      },
      "id": "Pk5GnzpsYpJJ",
      "execution_count": 57,
      "outputs": []
    },
    {
      "cell_type": "markdown",
      "source": [
        "Reporting private Score."
      ],
      "metadata": {
        "id": "fvOcF71IZnjv"
      },
      "id": "fvOcF71IZnjv"
    },
    {
      "cell_type": "code",
      "source": [
        "\"\"\"I got a result of 0.74083\"\"\""
      ],
      "metadata": {
        "id": "Iag0UU1zZaWE"
      },
      "id": "Iag0UU1zZaWE",
      "execution_count": null,
      "outputs": []
    },
    {
      "cell_type": "markdown",
      "source": [
        "What If I train the model with the best parameters possible and with a CV?"
      ],
      "metadata": {
        "id": "PTDMFuGA-KVK"
      },
      "id": "PTDMFuGA-KVK"
    },
    {
      "cell_type": "code",
      "source": [
        "X       = postprueba_train.copy() \n",
        "X_test  = postprueba_test.copy()"
      ],
      "metadata": {
        "id": "GXzlKMM7-dz_"
      },
      "id": "GXzlKMM7-dz_",
      "execution_count": 58,
      "outputs": []
    },
    {
      "cell_type": "code",
      "source": [
        "param_dist = {\n",
        " 'max_depth': [25,70],\n",
        " 'num_leaves': [15,30],\n",
        " 'learning_rate': [0.01,0.1],\n",
        " 'n_estimators': [100]\n",
        "}\n",
        "\n",
        "model_random_0 = RandomizedSearchCV(model, param_dist, n_iter=100, random_state=0, cv=3)\n",
        "inicio = time.time()\n",
        "model_random_0.fit(X, y)\n",
        "fin = time.time()\n",
        "print(\"The time it takes to fit the model is\",round(fin-inicio),\"seconds.\")\n",
        "\n",
        "print(\"Best params: \"+str(model_random_0.best_params_))\n",
        "print(\"Best Score: \"+str(model_random_0.best_score_)+'\\n')"
      ],
      "metadata": {
        "id": "ALLGFOE3-fKU",
        "colab": {
          "base_uri": "https://localhost:8080/"
        },
        "outputId": "94982c27-413a-42f2-ce9b-8970146d5d8a"
      },
      "id": "ALLGFOE3-fKU",
      "execution_count": 59,
      "outputs": [
        {
          "output_type": "stream",
          "name": "stdout",
          "text": [
            "The time it takes to fit the model is 980 seconds.\n",
            "Best params: {'num_leaves': 30, 'n_estimators': 100, 'max_depth': 25, 'learning_rate': 0.1}\n",
            "Best Score: 0.9195443418505039\n",
            "\n"
          ]
        }
      ]
    },
    {
      "cell_type": "code",
      "source": [
        "probability_LGM_hyper = calculating_probability(model_random_0)\n",
        "probability_LGM_hyper.to_csv(\"competition_df_LGM_hyper.csv\", index=False)"
      ],
      "metadata": {
        "id": "W2bpjPmf-gSE"
      },
      "id": "W2bpjPmf-gSE",
      "execution_count": 60,
      "outputs": []
    },
    {
      "cell_type": "markdown",
      "source": [
        "Reporting Private Score"
      ],
      "metadata": {
        "id": "3WHSXqInRUDF"
      },
      "id": "3WHSXqInRUDF"
    },
    {
      "cell_type": "code",
      "source": [
        "\"I got a result of 0.74137\""
      ],
      "metadata": {
        "id": "eP_UhH1mI6jY"
      },
      "id": "eP_UhH1mI6jY",
      "execution_count": null,
      "outputs": []
    },
    {
      "cell_type": "markdown",
      "source": [
        "Conclutions:"
      ],
      "metadata": {
        "id": "SekJF_8OJCQE"
      },
      "id": "SekJF_8OJCQE"
    },
    {
      "cell_type": "code",
      "source": [
        "print(\"Kaggle Competition for each model:\")\n",
        "print(f\"Baseline Logistic Regression: {0.73424}\")\n",
        "print(f\"Default RandomForest: {0.69163}\")\n",
        "print(f\"Best RandomForest: {0.69517}\")\n",
        "print(f\"Default LightGBM: {0.74083}\")\n",
        "print(f\"Best LightGBM: {0.74137}\")"
      ],
      "metadata": {
        "colab": {
          "base_uri": "https://localhost:8080/"
        },
        "id": "op1iOrWdJF6O",
        "outputId": "4a5f1726-0e92-4eab-c1ff-d39e90c3d817"
      },
      "id": "op1iOrWdJF6O",
      "execution_count": 62,
      "outputs": [
        {
          "output_type": "stream",
          "name": "stdout",
          "text": [
            "Kaggle Competition for each model:\n",
            "Baseline Logistic Regression: 0.73424\n",
            "Default RandomForest: 0.69163\n",
            "Best RandomForest: 0.69517\n",
            "Default LightGBM: 0.74083\n",
            "Best LightGBM: 0.74137\n"
          ]
        }
      ]
    },
    {
      "cell_type": "code",
      "source": [
        "\"\"\"As we can see on the results, using the most complex model don´t neccesary mean getting a better result. \n",
        "Our Baseline Model got a way better result than our selected model, the RandomForest, even with the RandomSearchCV... \n",
        "Also, we can appreciate that a model with its default parameters works more or less equally as with\n",
        "the default parameters. On both models it performed barely better, and it takes time and resources to fit them... \n",
        "So, to conclude, it is important to considerate all these things at the time of deciding which model and how \n",
        "you are going to train depending on your goal and resources.\"\"\""
      ],
      "metadata": {
        "id": "LtLiaLsCNHZq"
      },
      "id": "LtLiaLsCNHZq",
      "execution_count": null,
      "outputs": []
    },
    {
      "cell_type": "markdown",
      "id": "c2d1a1f4-5e1e-4982-a6ae-a27b8c11428e",
      "metadata": {
        "id": "c2d1a1f4-5e1e-4982-a6ae-a27b8c11428e"
      },
      "source": [
        "### Optional: Using Scikit Learn Pipelines "
      ]
    },
    {
      "cell_type": "markdown",
      "id": "2e4f95fb-73bf-42c4-97a3-80078f2496aa",
      "metadata": {
        "id": "2e4f95fb-73bf-42c4-97a3-80078f2496aa"
      },
      "source": [
        "So far you've created special functions or blocks or code to chain operations on data and then train the models. But, reproducibility is important, and you don't want to have to remember the correct steps to follow each time you have new data to train your models. There are a lots of tools out there that can help you with that, here you can use a [Sklearn Pipeline](https://scikit-learn.org/stable/modules/generated/sklearn.pipeline.Pipeline.html) to process your data."
      ]
    },
    {
      "cell_type": "code",
      "execution_count": null,
      "id": "5a5eecdf-ee08-4ebd-8667-25cdb9a3eef4",
      "metadata": {
        "id": "5a5eecdf-ee08-4ebd-8667-25cdb9a3eef4"
      },
      "outputs": [],
      "source": [
        "### Complete in this cell: use a sklearn Pipeline to automate the cleaning, standardizing and training "
      ]
    }
  ],
  "metadata": {
    "kernelspec": {
      "display_name": "Python 3 (ipykernel)",
      "language": "python",
      "name": "python3"
    },
    "language_info": {
      "codemirror_mode": {
        "name": "ipython",
        "version": 3
      },
      "file_extension": ".py",
      "mimetype": "text/x-python",
      "name": "python",
      "nbconvert_exporter": "python",
      "pygments_lexer": "ipython3",
      "version": "3.8.9"
    },
    "colab": {
      "name": "Copia de AnyoneAI - Project 3.ipynb",
      "provenance": [],
      "collapsed_sections": []
    }
  },
  "nbformat": 4,
  "nbformat_minor": 5
}